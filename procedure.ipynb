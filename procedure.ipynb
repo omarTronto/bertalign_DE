{
 "cells": [
  {
   "cell_type": "code",
   "execution_count": null,
   "id": "005e7564-7d39-48c7-9d81-9bacca2a7877",
   "metadata": {},
   "outputs": [],
   "source": [
    "from bertalign.aligner import *\n",
    "from tqdm import tqdm\n",
    "from f1_eval import *"
   ]
  },
  {
   "cell_type": "code",
   "execution_count": 3,
   "id": "12892eb3-a705-4c83-b606-24ad156559b9",
   "metadata": {},
   "outputs": [],
   "source": [
    "src_file = 'path' # unaligned complex sentences, sentence per line, and a separating line ('.eoa') between sentences of each document\n",
    "tgt_file = 'path' # unaligned simple sentences, sentence per line, and a separating line ('.eoa') between sentences of each document\n",
    "output_file = 'path'"
   ]
  },
  {
   "cell_type": "code",
   "execution_count": 6,
   "id": "c7392add-9895-4e1b-a3d5-d701a93a526b",
   "metadata": {},
   "outputs": [],
   "source": [
    "gold_src = 'path' # aligned complex sentences, sentence per line\n",
    "gold_tgt = 'path' # aligned simple sentences, sentence per line"
   ]
  },
  {
   "cell_type": "code",
   "execution_count": null,
   "id": "c3b145d9-5cea-402c-a087-3a2fb62002c5",
   "metadata": {},
   "outputs": [],
   "source": []
  },
  {
   "cell_type": "markdown",
   "id": "a840e468-a263-4e70-940b-d373b6f8cb3f",
   "metadata": {},
   "source": [
    "## Experiment 1: Finding 1-1, 1-m, and n-1 alignments"
   ]
  },
  {
   "cell_type": "code",
   "execution_count": 11,
   "id": "1d9e6129-dbf3-4c1e-8952-5287c7f16685",
   "metadata": {
    "scrolled": true,
    "tags": []
   },
   "outputs": [
    {
     "name": "stderr",
     "output_type": "stream",
     "text": [
      "0it [00:00, ?it/s]"
     ]
    },
    {
     "name": "stdout",
     "output_type": "stream",
     "text": [
      "Source language: German, Number of sentences: 49\n",
      "Target language: German, Number of sentences: 101\n",
      "Embedding source and target text using LaBSE ...\n"
     ]
    },
    {
     "name": "stderr",
     "output_type": "stream",
     "text": [
      "1it [00:00,  1.80it/s]"
     ]
    },
    {
     "name": "stdout",
     "output_type": "stream",
     "text": [
      "Performing first-step alignment ...\n",
      "Performing second-step alignment ...\n",
      "Finished! Successfully aligning 49 German sentences to 101 German sentences\n",
      "\n",
      "Source language: German, Number of sentences: 19\n",
      "Target language: German, Number of sentences: 40\n",
      "Embedding source and target text using LaBSE ...\n"
     ]
    },
    {
     "name": "stderr",
     "output_type": "stream",
     "text": [
      "2it [00:00,  2.58it/s]"
     ]
    },
    {
     "name": "stdout",
     "output_type": "stream",
     "text": [
      "Performing first-step alignment ...\n",
      "Performing second-step alignment ...\n",
      "Finished! Successfully aligning 19 German sentences to 40 German sentences\n",
      "\n",
      "Source language: German, Number of sentences: 48\n",
      "Target language: German, Number of sentences: 25\n",
      "Embedding source and target text using LaBSE ...\n"
     ]
    },
    {
     "name": "stderr",
     "output_type": "stream",
     "text": [
      "3it [00:01,  2.74it/s]"
     ]
    },
    {
     "name": "stdout",
     "output_type": "stream",
     "text": [
      "Performing first-step alignment ...\n",
      "Performing second-step alignment ...\n",
      "Finished! Successfully aligning 48 German sentences to 25 German sentences\n",
      "\n",
      "Source language: German, Number of sentences: 48\n",
      "Target language: German, Number of sentences: 23\n",
      "Embedding source and target text using LaBSE ...\n"
     ]
    },
    {
     "name": "stderr",
     "output_type": "stream",
     "text": [
      "4it [00:01,  2.84it/s]"
     ]
    },
    {
     "name": "stdout",
     "output_type": "stream",
     "text": [
      "Performing first-step alignment ...\n",
      "Performing second-step alignment ...\n",
      "Finished! Successfully aligning 48 German sentences to 23 German sentences\n",
      "\n",
      "Source language: German, Number of sentences: 48\n",
      "Target language: German, Number of sentences: 35\n",
      "Embedding source and target text using LaBSE ...\n"
     ]
    },
    {
     "name": "stderr",
     "output_type": "stream",
     "text": [
      "5it [00:01,  2.77it/s]"
     ]
    },
    {
     "name": "stdout",
     "output_type": "stream",
     "text": [
      "Performing first-step alignment ...\n",
      "Performing second-step alignment ...\n",
      "Finished! Successfully aligning 48 German sentences to 35 German sentences\n",
      "\n",
      "Source language: German, Number of sentences: 38\n",
      "Target language: German, Number of sentences: 36\n",
      "Embedding source and target text using LaBSE ...\n"
     ]
    },
    {
     "name": "stderr",
     "output_type": "stream",
     "text": [
      "6it [00:02,  2.64it/s]"
     ]
    },
    {
     "name": "stdout",
     "output_type": "stream",
     "text": [
      "Performing first-step alignment ...\n",
      "Performing second-step alignment ...\n",
      "Finished! Successfully aligning 38 German sentences to 36 German sentences\n",
      "\n",
      "Source language: German, Number of sentences: 38\n",
      "Target language: German, Number of sentences: 45\n",
      "Embedding source and target text using LaBSE ...\n"
     ]
    },
    {
     "name": "stderr",
     "output_type": "stream",
     "text": [
      "7it [00:02,  2.55it/s]"
     ]
    },
    {
     "name": "stdout",
     "output_type": "stream",
     "text": [
      "Performing first-step alignment ...\n",
      "Performing second-step alignment ...\n",
      "Finished! Successfully aligning 38 German sentences to 45 German sentences\n",
      "\n",
      "Source language: German, Number of sentences: 31\n",
      "Target language: German, Number of sentences: 40\n",
      "Embedding source and target text using LaBSE ...\n"
     ]
    },
    {
     "name": "stderr",
     "output_type": "stream",
     "text": [
      "8it [00:03,  2.73it/s]"
     ]
    },
    {
     "name": "stdout",
     "output_type": "stream",
     "text": [
      "Performing first-step alignment ...\n",
      "Performing second-step alignment ...\n",
      "Finished! Successfully aligning 31 German sentences to 40 German sentences\n",
      "\n",
      "Source language: German, Number of sentences: 30\n",
      "Target language: German, Number of sentences: 41\n",
      "Embedding source and target text using LaBSE ...\n"
     ]
    },
    {
     "name": "stderr",
     "output_type": "stream",
     "text": [
      "9it [00:03,  2.74it/s]"
     ]
    },
    {
     "name": "stdout",
     "output_type": "stream",
     "text": [
      "Performing first-step alignment ...\n",
      "Performing second-step alignment ...\n",
      "Finished! Successfully aligning 30 German sentences to 41 German sentences\n",
      "\n",
      "Source language: German, Number of sentences: 30\n",
      "Target language: German, Number of sentences: 15\n",
      "Embedding source and target text using LaBSE ...\n"
     ]
    },
    {
     "name": "stderr",
     "output_type": "stream",
     "text": [
      "10it [00:03,  2.88it/s]"
     ]
    },
    {
     "name": "stdout",
     "output_type": "stream",
     "text": [
      "Performing first-step alignment ...\n",
      "Performing second-step alignment ...\n",
      "Finished! Successfully aligning 30 German sentences to 15 German sentences\n",
      "\n",
      "Source language: German, Number of sentences: 30\n",
      "Target language: German, Number of sentences: 41\n",
      "Embedding source and target text using LaBSE ...\n"
     ]
    },
    {
     "name": "stderr",
     "output_type": "stream",
     "text": [
      "11it [00:04,  2.87it/s]"
     ]
    },
    {
     "name": "stdout",
     "output_type": "stream",
     "text": [
      "Performing first-step alignment ...\n",
      "Performing second-step alignment ...\n",
      "Finished! Successfully aligning 30 German sentences to 41 German sentences\n",
      "\n",
      "Source language: German, Number of sentences: 49\n",
      "Target language: German, Number of sentences: 89\n",
      "Embedding source and target text using LaBSE ...\n"
     ]
    },
    {
     "name": "stderr",
     "output_type": "stream",
     "text": [
      "12it [00:04,  2.37it/s]"
     ]
    },
    {
     "name": "stdout",
     "output_type": "stream",
     "text": [
      "Performing first-step alignment ...\n",
      "Performing second-step alignment ...\n",
      "Finished! Successfully aligning 49 German sentences to 89 German sentences\n",
      "\n",
      "Source language: German, Number of sentences: 73\n",
      "Target language: German, Number of sentences: 61\n",
      "Embedding source and target text using LaBSE ...\n"
     ]
    },
    {
     "name": "stderr",
     "output_type": "stream",
     "text": [
      "13it [00:05,  1.96it/s]"
     ]
    },
    {
     "name": "stdout",
     "output_type": "stream",
     "text": [
      "Performing first-step alignment ...\n",
      "Performing second-step alignment ...\n",
      "Finished! Successfully aligning 73 German sentences to 61 German sentences\n",
      "\n",
      "Source language: German, Number of sentences: 188\n",
      "Target language: German, Number of sentences: 77\n",
      "Embedding source and target text using LaBSE ...\n"
     ]
    },
    {
     "name": "stderr",
     "output_type": "stream",
     "text": [
      "14it [00:06,  1.48it/s]"
     ]
    },
    {
     "name": "stdout",
     "output_type": "stream",
     "text": [
      "Performing first-step alignment ...\n",
      "Performing second-step alignment ...\n",
      "Finished! Successfully aligning 188 German sentences to 77 German sentences\n",
      "\n",
      "Source language: German, Number of sentences: 736\n",
      "Target language: German, Number of sentences: 259\n",
      "Embedding source and target text using LaBSE ...\n"
     ]
    },
    {
     "name": "stderr",
     "output_type": "stream",
     "text": [
      "15it [00:11,  1.88s/it]"
     ]
    },
    {
     "name": "stdout",
     "output_type": "stream",
     "text": [
      "Performing first-step alignment ...\n",
      "Performing second-step alignment ...\n",
      "Finished! Successfully aligning 736 German sentences to 259 German sentences\n",
      "\n",
      "Source language: German, Number of sentences: 20\n",
      "Target language: German, Number of sentences: 8\n",
      "Embedding source and target text using LaBSE ...\n"
     ]
    },
    {
     "name": "stderr",
     "output_type": "stream",
     "text": [
      "16it [00:11,  1.37s/it]"
     ]
    },
    {
     "name": "stdout",
     "output_type": "stream",
     "text": [
      "Performing first-step alignment ...\n",
      "Performing second-step alignment ...\n",
      "Finished! Successfully aligning 20 German sentences to 8 German sentences\n",
      "\n",
      "Source language: German, Number of sentences: 17\n",
      "Target language: German, Number of sentences: 12\n",
      "Embedding source and target text using LaBSE ...\n"
     ]
    },
    {
     "name": "stderr",
     "output_type": "stream",
     "text": [
      "17it [00:11,  1.03s/it]"
     ]
    },
    {
     "name": "stdout",
     "output_type": "stream",
     "text": [
      "Performing first-step alignment ...\n",
      "Performing second-step alignment ...\n",
      "Finished! Successfully aligning 17 German sentences to 12 German sentences\n",
      "\n",
      "Source language: German, Number of sentences: 16\n",
      "Target language: German, Number of sentences: 11\n",
      "Embedding source and target text using LaBSE ...\n",
      "Performing first-step alignment ...\n"
     ]
    },
    {
     "name": "stderr",
     "output_type": "stream",
     "text": [
      "19it [00:11,  1.67it/s]"
     ]
    },
    {
     "name": "stdout",
     "output_type": "stream",
     "text": [
      "Performing second-step alignment ...\n",
      "Finished! Successfully aligning 16 German sentences to 11 German sentences\n",
      "\n",
      "Source language: German, Number of sentences: 12\n",
      "Target language: German, Number of sentences: 12\n",
      "Embedding source and target text using LaBSE ...\n",
      "Performing first-step alignment ...\n",
      "Performing second-step alignment ...\n",
      "Finished! Successfully aligning 12 German sentences to 12 German sentences\n",
      "\n",
      "Source language: German, Number of sentences: 23\n",
      "Target language: German, Number of sentences: 18\n",
      "Embedding source and target text using LaBSE ...\n"
     ]
    },
    {
     "name": "stderr",
     "output_type": "stream",
     "text": [
      "20it [00:12,  1.98it/s]"
     ]
    },
    {
     "name": "stdout",
     "output_type": "stream",
     "text": [
      "Performing first-step alignment ...\n",
      "Performing second-step alignment ...\n",
      "Finished! Successfully aligning 23 German sentences to 18 German sentences\n",
      "\n",
      "Source language: German, Number of sentences: 22\n",
      "Target language: German, Number of sentences: 17\n",
      "Embedding source and target text using LaBSE ...\n"
     ]
    },
    {
     "name": "stderr",
     "output_type": "stream",
     "text": [
      "21it [00:12,  2.30it/s]"
     ]
    },
    {
     "name": "stdout",
     "output_type": "stream",
     "text": [
      "Performing first-step alignment ...\n",
      "Performing second-step alignment ...\n",
      "Finished! Successfully aligning 22 German sentences to 17 German sentences\n",
      "\n",
      "Source language: German, Number of sentences: 18\n",
      "Target language: German, Number of sentences: 11\n",
      "Embedding source and target text using LaBSE ...\n",
      "Performing first-step alignment ...\n"
     ]
    },
    {
     "name": "stderr",
     "output_type": "stream",
     "text": [
      "22it [00:12,  2.76it/s]"
     ]
    },
    {
     "name": "stdout",
     "output_type": "stream",
     "text": [
      "Performing second-step alignment ...\n",
      "Finished! Successfully aligning 18 German sentences to 11 German sentences\n",
      "\n",
      "Source language: German, Number of sentences: 23\n",
      "Target language: German, Number of sentences: 18\n",
      "Embedding source and target text using LaBSE ...\n",
      "Performing first-step alignment ...\n"
     ]
    },
    {
     "name": "stderr",
     "output_type": "stream",
     "text": [
      "23it [00:12,  3.05it/s]"
     ]
    },
    {
     "name": "stdout",
     "output_type": "stream",
     "text": [
      "Performing second-step alignment ...\n",
      "Finished! Successfully aligning 23 German sentences to 18 German sentences\n",
      "\n",
      "Source language: German, Number of sentences: 19\n",
      "Target language: German, Number of sentences: 10\n",
      "Embedding source and target text using LaBSE ...\n"
     ]
    },
    {
     "name": "stderr",
     "output_type": "stream",
     "text": [
      "24it [00:13,  3.21it/s]"
     ]
    },
    {
     "name": "stdout",
     "output_type": "stream",
     "text": [
      "Performing first-step alignment ...\n",
      "Performing second-step alignment ...\n",
      "Finished! Successfully aligning 19 German sentences to 10 German sentences\n",
      "\n",
      "Source language: German, Number of sentences: 11\n",
      "Target language: German, Number of sentences: 9\n",
      "Embedding source and target text using LaBSE ...\n",
      "Performing first-step alignment ...\n"
     ]
    },
    {
     "name": "stderr",
     "output_type": "stream",
     "text": [
      "25it [00:13,  3.61it/s]"
     ]
    },
    {
     "name": "stdout",
     "output_type": "stream",
     "text": [
      "Performing second-step alignment ...\n",
      "Finished! Successfully aligning 11 German sentences to 9 German sentences\n",
      "\n",
      "Source language: German, Number of sentences: 24\n",
      "Target language: German, Number of sentences: 17\n",
      "Embedding source and target text using LaBSE ...\n",
      "Performing first-step alignment ...\n"
     ]
    },
    {
     "name": "stderr",
     "output_type": "stream",
     "text": [
      "26it [00:13,  3.85it/s]"
     ]
    },
    {
     "name": "stdout",
     "output_type": "stream",
     "text": [
      "Performing second-step alignment ...\n",
      "Finished! Successfully aligning 24 German sentences to 17 German sentences\n",
      "\n",
      "Source language: German, Number of sentences: 14\n",
      "Target language: German, Number of sentences: 10\n",
      "Embedding source and target text using LaBSE ...\n",
      "Performing first-step alignment ...\n"
     ]
    },
    {
     "name": "stderr",
     "output_type": "stream",
     "text": [
      "28it [00:13,  4.37it/s]"
     ]
    },
    {
     "name": "stdout",
     "output_type": "stream",
     "text": [
      "Performing second-step alignment ...\n",
      "Finished! Successfully aligning 14 German sentences to 10 German sentences\n",
      "\n",
      "Source language: German, Number of sentences: 8\n",
      "Target language: German, Number of sentences: 6\n",
      "Embedding source and target text using LaBSE ...\n",
      "Performing first-step alignment ...\n",
      "Performing second-step alignment ...\n",
      "Finished! Successfully aligning 8 German sentences to 6 German sentences\n",
      "\n",
      "Source language: German, Number of sentences: 18\n",
      "Target language: German, Number of sentences: 12\n",
      "Embedding source and target text using LaBSE ...\n"
     ]
    },
    {
     "name": "stderr",
     "output_type": "stream",
     "text": [
      "29it [00:14,  4.59it/s]"
     ]
    },
    {
     "name": "stdout",
     "output_type": "stream",
     "text": [
      "Performing first-step alignment ...\n",
      "Performing second-step alignment ...\n",
      "Finished! Successfully aligning 18 German sentences to 12 German sentences\n",
      "\n",
      "Source language: German, Number of sentences: 23\n",
      "Target language: German, Number of sentences: 17\n",
      "Embedding source and target text using LaBSE ...\n"
     ]
    },
    {
     "name": "stderr",
     "output_type": "stream",
     "text": [
      "30it [00:14,  4.38it/s]"
     ]
    },
    {
     "name": "stdout",
     "output_type": "stream",
     "text": [
      "Performing first-step alignment ...\n",
      "Performing second-step alignment ...\n",
      "Finished! Successfully aligning 23 German sentences to 17 German sentences\n",
      "\n",
      "Source language: German, Number of sentences: 23\n",
      "Target language: German, Number of sentences: 14\n",
      "Embedding source and target text using LaBSE ...\n"
     ]
    },
    {
     "name": "stderr",
     "output_type": "stream",
     "text": [
      "31it [00:14,  4.38it/s]"
     ]
    },
    {
     "name": "stdout",
     "output_type": "stream",
     "text": [
      "Performing first-step alignment ...\n",
      "Performing second-step alignment ...\n",
      "Finished! Successfully aligning 23 German sentences to 14 German sentences\n",
      "\n",
      "Source language: German, Number of sentences: 27\n",
      "Target language: German, Number of sentences: 16\n",
      "Embedding source and target text using LaBSE ...\n"
     ]
    },
    {
     "name": "stderr",
     "output_type": "stream",
     "text": [
      "32it [00:14,  4.34it/s]"
     ]
    },
    {
     "name": "stdout",
     "output_type": "stream",
     "text": [
      "Performing first-step alignment ...\n",
      "Performing second-step alignment ...\n",
      "Finished! Successfully aligning 27 German sentences to 16 German sentences\n",
      "\n",
      "Source language: German, Number of sentences: 17\n",
      "Target language: German, Number of sentences: 11\n",
      "Embedding source and target text using LaBSE ...\n"
     ]
    },
    {
     "name": "stderr",
     "output_type": "stream",
     "text": [
      "33it [00:15,  4.17it/s]"
     ]
    },
    {
     "name": "stdout",
     "output_type": "stream",
     "text": [
      "Performing first-step alignment ...\n",
      "Performing second-step alignment ...\n",
      "Finished! Successfully aligning 17 German sentences to 11 German sentences\n",
      "\n",
      "Source language: German, Number of sentences: 26\n",
      "Target language: German, Number of sentences: 14\n",
      "Embedding source and target text using LaBSE ...\n"
     ]
    },
    {
     "name": "stderr",
     "output_type": "stream",
     "text": [
      "34it [00:15,  4.09it/s]"
     ]
    },
    {
     "name": "stdout",
     "output_type": "stream",
     "text": [
      "Performing first-step alignment ...\n",
      "Performing second-step alignment ...\n",
      "Finished! Successfully aligning 26 German sentences to 14 German sentences\n",
      "\n",
      "Source language: German, Number of sentences: 20\n",
      "Target language: German, Number of sentences: 18\n",
      "Embedding source and target text using LaBSE ...\n"
     ]
    },
    {
     "name": "stderr",
     "output_type": "stream",
     "text": [
      "35it [00:15,  3.72it/s]"
     ]
    },
    {
     "name": "stdout",
     "output_type": "stream",
     "text": [
      "Performing first-step alignment ...\n",
      "Performing second-step alignment ...\n",
      "Finished! Successfully aligning 20 German sentences to 18 German sentences\n",
      "\n",
      "Source language: German, Number of sentences: 26\n",
      "Target language: German, Number of sentences: 22\n",
      "Embedding source and target text using LaBSE ...\n"
     ]
    },
    {
     "name": "stderr",
     "output_type": "stream",
     "text": [
      "36it [00:15,  3.74it/s]"
     ]
    },
    {
     "name": "stdout",
     "output_type": "stream",
     "text": [
      "Performing first-step alignment ...\n",
      "Performing second-step alignment ...\n",
      "Finished! Successfully aligning 26 German sentences to 22 German sentences\n",
      "\n",
      "Source language: German, Number of sentences: 23\n",
      "Target language: German, Number of sentences: 16\n",
      "Embedding source and target text using LaBSE ...\n"
     ]
    },
    {
     "name": "stderr",
     "output_type": "stream",
     "text": [
      "37it [00:16,  3.88it/s]"
     ]
    },
    {
     "name": "stdout",
     "output_type": "stream",
     "text": [
      "Performing first-step alignment ...\n",
      "Performing second-step alignment ...\n",
      "Finished! Successfully aligning 23 German sentences to 16 German sentences\n",
      "\n",
      "Source language: German, Number of sentences: 18\n",
      "Target language: German, Number of sentences: 13\n",
      "Embedding source and target text using LaBSE ...\n"
     ]
    },
    {
     "name": "stderr",
     "output_type": "stream",
     "text": [
      "38it [00:16,  3.96it/s]"
     ]
    },
    {
     "name": "stdout",
     "output_type": "stream",
     "text": [
      "Performing first-step alignment ...\n",
      "Performing second-step alignment ...\n",
      "Finished! Successfully aligning 18 German sentences to 13 German sentences\n",
      "\n",
      "Source language: German, Number of sentences: 17\n",
      "Target language: German, Number of sentences: 14\n",
      "Embedding source and target text using LaBSE ...\n"
     ]
    },
    {
     "name": "stderr",
     "output_type": "stream",
     "text": [
      "39it [00:16,  4.01it/s]"
     ]
    },
    {
     "name": "stdout",
     "output_type": "stream",
     "text": [
      "Performing first-step alignment ...\n",
      "Performing second-step alignment ...\n",
      "Finished! Successfully aligning 17 German sentences to 14 German sentences\n",
      "\n",
      "Source language: German, Number of sentences: 31\n",
      "Target language: German, Number of sentences: 21\n",
      "Embedding source and target text using LaBSE ...\n"
     ]
    },
    {
     "name": "stderr",
     "output_type": "stream",
     "text": [
      "40it [00:16,  3.99it/s]"
     ]
    },
    {
     "name": "stdout",
     "output_type": "stream",
     "text": [
      "Performing first-step alignment ...\n",
      "Performing second-step alignment ...\n",
      "Finished! Successfully aligning 31 German sentences to 21 German sentences\n",
      "\n",
      "Source language: German, Number of sentences: 23\n",
      "Target language: German, Number of sentences: 18\n",
      "Embedding source and target text using LaBSE ...\n"
     ]
    },
    {
     "name": "stderr",
     "output_type": "stream",
     "text": [
      "41it [00:17,  3.92it/s]"
     ]
    },
    {
     "name": "stdout",
     "output_type": "stream",
     "text": [
      "Performing first-step alignment ...\n",
      "Performing second-step alignment ...\n",
      "Finished! Successfully aligning 23 German sentences to 18 German sentences\n",
      "\n",
      "Source language: German, Number of sentences: 22\n",
      "Target language: German, Number of sentences: 21\n",
      "Embedding source and target text using LaBSE ...\n"
     ]
    },
    {
     "name": "stderr",
     "output_type": "stream",
     "text": [
      "42it [00:17,  3.92it/s]"
     ]
    },
    {
     "name": "stdout",
     "output_type": "stream",
     "text": [
      "Performing first-step alignment ...\n",
      "Performing second-step alignment ...\n",
      "Finished! Successfully aligning 22 German sentences to 21 German sentences\n",
      "\n",
      "Source language: German, Number of sentences: 20\n",
      "Target language: German, Number of sentences: 21\n",
      "Embedding source and target text using LaBSE ...\n"
     ]
    },
    {
     "name": "stderr",
     "output_type": "stream",
     "text": [
      "43it [00:17,  3.88it/s]"
     ]
    },
    {
     "name": "stdout",
     "output_type": "stream",
     "text": [
      "Performing first-step alignment ...\n",
      "Performing second-step alignment ...\n",
      "Finished! Successfully aligning 20 German sentences to 21 German sentences\n",
      "\n",
      "Source language: German, Number of sentences: 14\n",
      "Target language: German, Number of sentences: 12\n",
      "Embedding source and target text using LaBSE ...\n"
     ]
    },
    {
     "name": "stderr",
     "output_type": "stream",
     "text": [
      "44it [00:17,  4.09it/s]"
     ]
    },
    {
     "name": "stdout",
     "output_type": "stream",
     "text": [
      "Performing first-step alignment ...\n",
      "Performing second-step alignment ...\n",
      "Finished! Successfully aligning 14 German sentences to 12 German sentences\n",
      "\n",
      "Source language: German, Number of sentences: 26\n",
      "Target language: German, Number of sentences: 21\n",
      "Embedding source and target text using LaBSE ...\n"
     ]
    },
    {
     "name": "stderr",
     "output_type": "stream",
     "text": [
      "45it [00:18,  4.02it/s]"
     ]
    },
    {
     "name": "stdout",
     "output_type": "stream",
     "text": [
      "Performing first-step alignment ...\n",
      "Performing second-step alignment ...\n",
      "Finished! Successfully aligning 26 German sentences to 21 German sentences\n",
      "\n",
      "Source language: German, Number of sentences: 16\n",
      "Target language: German, Number of sentences: 18\n",
      "Embedding source and target text using LaBSE ...\n"
     ]
    },
    {
     "name": "stderr",
     "output_type": "stream",
     "text": [
      "46it [00:18,  4.04it/s]"
     ]
    },
    {
     "name": "stdout",
     "output_type": "stream",
     "text": [
      "Performing first-step alignment ...\n",
      "Performing second-step alignment ...\n",
      "Finished! Successfully aligning 16 German sentences to 18 German sentences\n",
      "\n",
      "Source language: German, Number of sentences: 23\n",
      "Target language: German, Number of sentences: 18\n",
      "Embedding source and target text using LaBSE ...\n"
     ]
    },
    {
     "name": "stderr",
     "output_type": "stream",
     "text": [
      "47it [00:18,  3.98it/s]"
     ]
    },
    {
     "name": "stdout",
     "output_type": "stream",
     "text": [
      "Performing first-step alignment ...\n",
      "Performing second-step alignment ...\n",
      "Finished! Successfully aligning 23 German sentences to 18 German sentences\n",
      "\n",
      "Source language: German, Number of sentences: 25\n",
      "Target language: German, Number of sentences: 21\n",
      "Embedding source and target text using LaBSE ...\n"
     ]
    },
    {
     "name": "stderr",
     "output_type": "stream",
     "text": [
      "48it [00:19,  3.77it/s]"
     ]
    },
    {
     "name": "stdout",
     "output_type": "stream",
     "text": [
      "Performing first-step alignment ...\n",
      "Performing second-step alignment ...\n",
      "Finished! Successfully aligning 25 German sentences to 21 German sentences\n",
      "\n",
      "Source language: German, Number of sentences: 19\n",
      "Target language: German, Number of sentences: 15\n",
      "Embedding source and target text using LaBSE ...\n"
     ]
    },
    {
     "name": "stderr",
     "output_type": "stream",
     "text": [
      "49it [00:19,  3.92it/s]"
     ]
    },
    {
     "name": "stdout",
     "output_type": "stream",
     "text": [
      "Performing first-step alignment ...\n",
      "Performing second-step alignment ...\n",
      "Finished! Successfully aligning 19 German sentences to 15 German sentences\n",
      "\n",
      "Source language: German, Number of sentences: 19\n",
      "Target language: German, Number of sentences: 14\n",
      "Embedding source and target text using LaBSE ...\n"
     ]
    },
    {
     "name": "stderr",
     "output_type": "stream",
     "text": [
      "50it [00:19,  4.00it/s]"
     ]
    },
    {
     "name": "stdout",
     "output_type": "stream",
     "text": [
      "Performing first-step alignment ...\n",
      "Performing second-step alignment ...\n",
      "Finished! Successfully aligning 19 German sentences to 14 German sentences\n",
      "\n",
      "Source language: German, Number of sentences: 18\n",
      "Target language: German, Number of sentences: 13\n",
      "Embedding source and target text using LaBSE ...\n"
     ]
    },
    {
     "name": "stderr",
     "output_type": "stream",
     "text": [
      "51it [00:19,  4.04it/s]"
     ]
    },
    {
     "name": "stdout",
     "output_type": "stream",
     "text": [
      "Performing first-step alignment ...\n",
      "Performing second-step alignment ...\n",
      "Finished! Successfully aligning 18 German sentences to 13 German sentences\n",
      "\n",
      "Source language: German, Number of sentences: 19\n",
      "Target language: German, Number of sentences: 16\n",
      "Embedding source and target text using LaBSE ...\n"
     ]
    },
    {
     "name": "stderr",
     "output_type": "stream",
     "text": [
      "52it [00:19,  4.01it/s]"
     ]
    },
    {
     "name": "stdout",
     "output_type": "stream",
     "text": [
      "Performing first-step alignment ...\n",
      "Performing second-step alignment ...\n",
      "Finished! Successfully aligning 19 German sentences to 16 German sentences\n",
      "\n",
      "Source language: German, Number of sentences: 24\n",
      "Target language: German, Number of sentences: 20\n",
      "Embedding source and target text using LaBSE ...\n"
     ]
    },
    {
     "name": "stderr",
     "output_type": "stream",
     "text": [
      "53it [00:20,  3.82it/s]"
     ]
    },
    {
     "name": "stdout",
     "output_type": "stream",
     "text": [
      "Performing first-step alignment ...\n",
      "Performing second-step alignment ...\n",
      "Finished! Successfully aligning 24 German sentences to 20 German sentences\n",
      "\n",
      "Source language: German, Number of sentences: 14\n",
      "Target language: German, Number of sentences: 12\n",
      "Embedding source and target text using LaBSE ...\n"
     ]
    },
    {
     "name": "stderr",
     "output_type": "stream",
     "text": [
      "54it [00:20,  4.07it/s]"
     ]
    },
    {
     "name": "stdout",
     "output_type": "stream",
     "text": [
      "Performing first-step alignment ...\n",
      "Performing second-step alignment ...\n",
      "Finished! Successfully aligning 14 German sentences to 12 German sentences\n",
      "\n",
      "Source language: German, Number of sentences: 15\n",
      "Target language: German, Number of sentences: 10\n",
      "Embedding source and target text using LaBSE ...\n"
     ]
    },
    {
     "name": "stderr",
     "output_type": "stream",
     "text": [
      "55it [00:20,  4.18it/s]"
     ]
    },
    {
     "name": "stdout",
     "output_type": "stream",
     "text": [
      "Performing first-step alignment ...\n",
      "Performing second-step alignment ...\n",
      "Finished! Successfully aligning 15 German sentences to 10 German sentences\n",
      "\n",
      "Source language: German, Number of sentences: 22\n",
      "Target language: German, Number of sentences: 16\n",
      "Embedding source and target text using LaBSE ...\n"
     ]
    },
    {
     "name": "stderr",
     "output_type": "stream",
     "text": [
      "56it [00:20,  4.15it/s]"
     ]
    },
    {
     "name": "stdout",
     "output_type": "stream",
     "text": [
      "Performing first-step alignment ...\n",
      "Performing second-step alignment ...\n",
      "Finished! Successfully aligning 22 German sentences to 16 German sentences\n",
      "\n",
      "Source language: German, Number of sentences: 20\n",
      "Target language: German, Number of sentences: 16\n",
      "Embedding source and target text using LaBSE ...\n"
     ]
    },
    {
     "name": "stderr",
     "output_type": "stream",
     "text": [
      "57it [00:21,  4.07it/s]"
     ]
    },
    {
     "name": "stdout",
     "output_type": "stream",
     "text": [
      "Performing first-step alignment ...\n",
      "Performing second-step alignment ...\n",
      "Finished! Successfully aligning 20 German sentences to 16 German sentences\n",
      "\n",
      "Source language: German, Number of sentences: 15\n",
      "Target language: German, Number of sentences: 9\n",
      "Embedding source and target text using LaBSE ...\n"
     ]
    },
    {
     "name": "stderr",
     "output_type": "stream",
     "text": [
      "58it [00:21,  4.22it/s]"
     ]
    },
    {
     "name": "stdout",
     "output_type": "stream",
     "text": [
      "Performing first-step alignment ...\n",
      "Performing second-step alignment ...\n",
      "Finished! Successfully aligning 15 German sentences to 9 German sentences\n",
      "\n",
      "Source language: German, Number of sentences: 20\n",
      "Target language: German, Number of sentences: 14\n",
      "Embedding source and target text using LaBSE ...\n"
     ]
    },
    {
     "name": "stderr",
     "output_type": "stream",
     "text": [
      "59it [00:21,  4.13it/s]"
     ]
    },
    {
     "name": "stdout",
     "output_type": "stream",
     "text": [
      "Performing first-step alignment ...\n",
      "Performing second-step alignment ...\n",
      "Finished! Successfully aligning 20 German sentences to 14 German sentences\n",
      "\n",
      "Source language: German, Number of sentences: 16\n",
      "Target language: German, Number of sentences: 11\n",
      "Embedding source and target text using LaBSE ...\n"
     ]
    },
    {
     "name": "stderr",
     "output_type": "stream",
     "text": [
      "60it [00:21,  4.11it/s]"
     ]
    },
    {
     "name": "stdout",
     "output_type": "stream",
     "text": [
      "Performing first-step alignment ...\n",
      "Performing second-step alignment ...\n",
      "Finished! Successfully aligning 16 German sentences to 11 German sentences\n",
      "\n",
      "Source language: German, Number of sentences: 18\n",
      "Target language: German, Number of sentences: 14\n",
      "Embedding source and target text using LaBSE ...\n"
     ]
    },
    {
     "name": "stderr",
     "output_type": "stream",
     "text": [
      "61it [00:22,  4.19it/s]"
     ]
    },
    {
     "name": "stdout",
     "output_type": "stream",
     "text": [
      "Performing first-step alignment ...\n",
      "Performing second-step alignment ...\n",
      "Finished! Successfully aligning 18 German sentences to 14 German sentences\n",
      "\n",
      "Source language: German, Number of sentences: 19\n",
      "Target language: German, Number of sentences: 16\n",
      "Embedding source and target text using LaBSE ...\n"
     ]
    },
    {
     "name": "stderr",
     "output_type": "stream",
     "text": [
      "62it [00:22,  4.01it/s]"
     ]
    },
    {
     "name": "stdout",
     "output_type": "stream",
     "text": [
      "Performing first-step alignment ...\n",
      "Performing second-step alignment ...\n",
      "Finished! Successfully aligning 19 German sentences to 16 German sentences\n",
      "\n",
      "Source language: German, Number of sentences: 23\n",
      "Target language: German, Number of sentences: 17\n",
      "Embedding source and target text using LaBSE ...\n"
     ]
    },
    {
     "name": "stderr",
     "output_type": "stream",
     "text": [
      "63it [00:22,  3.92it/s]"
     ]
    },
    {
     "name": "stdout",
     "output_type": "stream",
     "text": [
      "Performing first-step alignment ...\n",
      "Performing second-step alignment ...\n",
      "Finished! Successfully aligning 23 German sentences to 17 German sentences\n",
      "\n",
      "Source language: German, Number of sentences: 17\n",
      "Target language: German, Number of sentences: 13\n",
      "Embedding source and target text using LaBSE ...\n"
     ]
    },
    {
     "name": "stderr",
     "output_type": "stream",
     "text": [
      "64it [00:22,  4.10it/s]"
     ]
    },
    {
     "name": "stdout",
     "output_type": "stream",
     "text": [
      "Performing first-step alignment ...\n",
      "Performing second-step alignment ...\n",
      "Finished! Successfully aligning 17 German sentences to 13 German sentences\n",
      "\n",
      "Source language: German, Number of sentences: 15\n",
      "Target language: German, Number of sentences: 14\n",
      "Embedding source and target text using LaBSE ...\n"
     ]
    },
    {
     "name": "stderr",
     "output_type": "stream",
     "text": [
      "65it [00:23,  4.18it/s]"
     ]
    },
    {
     "name": "stdout",
     "output_type": "stream",
     "text": [
      "Performing first-step alignment ...\n",
      "Performing second-step alignment ...\n",
      "Finished! Successfully aligning 15 German sentences to 14 German sentences\n",
      "\n",
      "Source language: German, Number of sentences: 20\n",
      "Target language: German, Number of sentences: 16\n",
      "Embedding source and target text using LaBSE ...\n"
     ]
    },
    {
     "name": "stderr",
     "output_type": "stream",
     "text": [
      "66it [00:23,  4.06it/s]"
     ]
    },
    {
     "name": "stdout",
     "output_type": "stream",
     "text": [
      "Performing first-step alignment ...\n",
      "Performing second-step alignment ...\n",
      "Finished! Successfully aligning 20 German sentences to 16 German sentences\n",
      "\n",
      "Source language: German, Number of sentences: 24\n",
      "Target language: German, Number of sentences: 19\n",
      "Embedding source and target text using LaBSE ...\n"
     ]
    },
    {
     "name": "stderr",
     "output_type": "stream",
     "text": [
      "67it [00:23,  3.94it/s]"
     ]
    },
    {
     "name": "stdout",
     "output_type": "stream",
     "text": [
      "Performing first-step alignment ...\n",
      "Performing second-step alignment ...\n",
      "Finished! Successfully aligning 24 German sentences to 19 German sentences\n",
      "\n",
      "Source language: German, Number of sentences: 14\n",
      "Target language: German, Number of sentences: 10\n",
      "Embedding source and target text using LaBSE ...\n"
     ]
    },
    {
     "name": "stderr",
     "output_type": "stream",
     "text": [
      "68it [00:23,  4.10it/s]"
     ]
    },
    {
     "name": "stdout",
     "output_type": "stream",
     "text": [
      "Performing first-step alignment ...\n",
      "Performing second-step alignment ...\n",
      "Finished! Successfully aligning 14 German sentences to 10 German sentences\n",
      "\n",
      "Source language: German, Number of sentences: 14\n",
      "Target language: German, Number of sentences: 17\n",
      "Embedding source and target text using LaBSE ...\n"
     ]
    },
    {
     "name": "stderr",
     "output_type": "stream",
     "text": [
      "69it [00:24,  3.82it/s]"
     ]
    },
    {
     "name": "stdout",
     "output_type": "stream",
     "text": [
      "Performing first-step alignment ...\n",
      "Performing second-step alignment ...\n",
      "Finished! Successfully aligning 14 German sentences to 17 German sentences\n",
      "\n",
      "Source language: German, Number of sentences: 25\n",
      "Target language: German, Number of sentences: 21\n",
      "Embedding source and target text using LaBSE ...\n"
     ]
    },
    {
     "name": "stderr",
     "output_type": "stream",
     "text": [
      "70it [00:24,  3.70it/s]"
     ]
    },
    {
     "name": "stdout",
     "output_type": "stream",
     "text": [
      "Performing first-step alignment ...\n",
      "Performing second-step alignment ...\n",
      "Finished! Successfully aligning 25 German sentences to 21 German sentences\n",
      "\n",
      "Source language: German, Number of sentences: 23\n",
      "Target language: German, Number of sentences: 19\n",
      "Embedding source and target text using LaBSE ...\n"
     ]
    },
    {
     "name": "stderr",
     "output_type": "stream",
     "text": [
      "71it [00:24,  3.59it/s]"
     ]
    },
    {
     "name": "stdout",
     "output_type": "stream",
     "text": [
      "Performing first-step alignment ...\n",
      "Performing second-step alignment ...\n",
      "Finished! Successfully aligning 23 German sentences to 19 German sentences\n",
      "\n",
      "Source language: German, Number of sentences: 12\n",
      "Target language: German, Number of sentences: 14\n",
      "Embedding source and target text using LaBSE ...\n"
     ]
    },
    {
     "name": "stderr",
     "output_type": "stream",
     "text": [
      "72it [00:25,  3.81it/s]"
     ]
    },
    {
     "name": "stdout",
     "output_type": "stream",
     "text": [
      "Performing first-step alignment ...\n",
      "Performing second-step alignment ...\n",
      "Finished! Successfully aligning 12 German sentences to 14 German sentences\n",
      "\n",
      "Source language: German, Number of sentences: 19\n",
      "Target language: German, Number of sentences: 15\n",
      "Embedding source and target text using LaBSE ...\n"
     ]
    },
    {
     "name": "stderr",
     "output_type": "stream",
     "text": [
      "73it [00:25,  3.90it/s]"
     ]
    },
    {
     "name": "stdout",
     "output_type": "stream",
     "text": [
      "Performing first-step alignment ...\n",
      "Performing second-step alignment ...\n",
      "Finished! Successfully aligning 19 German sentences to 15 German sentences\n",
      "\n",
      "Source language: German, Number of sentences: 14\n",
      "Target language: German, Number of sentences: 12\n",
      "Embedding source and target text using LaBSE ...\n"
     ]
    },
    {
     "name": "stderr",
     "output_type": "stream",
     "text": [
      "74it [00:25,  4.07it/s]"
     ]
    },
    {
     "name": "stdout",
     "output_type": "stream",
     "text": [
      "Performing first-step alignment ...\n",
      "Performing second-step alignment ...\n",
      "Finished! Successfully aligning 14 German sentences to 12 German sentences\n",
      "\n",
      "Source language: German, Number of sentences: 27\n",
      "Target language: German, Number of sentences: 20\n",
      "Embedding source and target text using LaBSE ...\n"
     ]
    },
    {
     "name": "stderr",
     "output_type": "stream",
     "text": [
      "75it [00:25,  3.90it/s]"
     ]
    },
    {
     "name": "stdout",
     "output_type": "stream",
     "text": [
      "Performing first-step alignment ...\n",
      "Performing second-step alignment ...\n",
      "Finished! Successfully aligning 27 German sentences to 20 German sentences\n",
      "\n",
      "Source language: German, Number of sentences: 22\n",
      "Target language: German, Number of sentences: 16\n",
      "Embedding source and target text using LaBSE ...\n"
     ]
    },
    {
     "name": "stderr",
     "output_type": "stream",
     "text": [
      "76it [00:25,  4.03it/s]"
     ]
    },
    {
     "name": "stdout",
     "output_type": "stream",
     "text": [
      "Performing first-step alignment ...\n",
      "Performing second-step alignment ...\n",
      "Finished! Successfully aligning 22 German sentences to 16 German sentences\n",
      "\n",
      "Source language: German, Number of sentences: 27\n",
      "Target language: German, Number of sentences: 22\n",
      "Embedding source and target text using LaBSE ...\n"
     ]
    },
    {
     "name": "stderr",
     "output_type": "stream",
     "text": [
      "77it [00:26,  3.89it/s]"
     ]
    },
    {
     "name": "stdout",
     "output_type": "stream",
     "text": [
      "Performing first-step alignment ...\n",
      "Performing second-step alignment ...\n",
      "Finished! Successfully aligning 27 German sentences to 22 German sentences\n",
      "\n",
      "Source language: German, Number of sentences: 15\n",
      "Target language: German, Number of sentences: 14\n",
      "Embedding source and target text using LaBSE ...\n"
     ]
    },
    {
     "name": "stderr",
     "output_type": "stream",
     "text": [
      "78it [00:26,  4.03it/s]"
     ]
    },
    {
     "name": "stdout",
     "output_type": "stream",
     "text": [
      "Performing first-step alignment ...\n",
      "Performing second-step alignment ...\n",
      "Finished! Successfully aligning 15 German sentences to 14 German sentences\n",
      "\n",
      "Source language: German, Number of sentences: 24\n",
      "Target language: German, Number of sentences: 16\n",
      "Embedding source and target text using LaBSE ...\n"
     ]
    },
    {
     "name": "stderr",
     "output_type": "stream",
     "text": [
      "79it [00:26,  4.00it/s]"
     ]
    },
    {
     "name": "stdout",
     "output_type": "stream",
     "text": [
      "Performing first-step alignment ...\n",
      "Performing second-step alignment ...\n",
      "Finished! Successfully aligning 24 German sentences to 16 German sentences\n",
      "\n",
      "Source language: German, Number of sentences: 26\n",
      "Target language: German, Number of sentences: 21\n",
      "Embedding source and target text using LaBSE ...\n"
     ]
    },
    {
     "name": "stderr",
     "output_type": "stream",
     "text": [
      "80it [00:26,  3.98it/s]"
     ]
    },
    {
     "name": "stdout",
     "output_type": "stream",
     "text": [
      "Performing first-step alignment ...\n",
      "Performing second-step alignment ...\n",
      "Finished! Successfully aligning 26 German sentences to 21 German sentences\n",
      "\n",
      "Source language: German, Number of sentences: 15\n",
      "Target language: German, Number of sentences: 12\n",
      "Embedding source and target text using LaBSE ...\n"
     ]
    },
    {
     "name": "stderr",
     "output_type": "stream",
     "text": [
      "81it [00:27,  4.00it/s]"
     ]
    },
    {
     "name": "stdout",
     "output_type": "stream",
     "text": [
      "Performing first-step alignment ...\n",
      "Performing second-step alignment ...\n",
      "Finished! Successfully aligning 15 German sentences to 12 German sentences\n",
      "\n",
      "Source language: German, Number of sentences: 18\n",
      "Target language: German, Number of sentences: 15\n",
      "Embedding source and target text using LaBSE ...\n"
     ]
    },
    {
     "name": "stderr",
     "output_type": "stream",
     "text": [
      "82it [00:27,  4.01it/s]"
     ]
    },
    {
     "name": "stdout",
     "output_type": "stream",
     "text": [
      "Performing first-step alignment ...\n",
      "Performing second-step alignment ...\n",
      "Finished! Successfully aligning 18 German sentences to 15 German sentences\n",
      "\n",
      "Source language: German, Number of sentences: 26\n",
      "Target language: German, Number of sentences: 22\n",
      "Embedding source and target text using LaBSE ...\n"
     ]
    },
    {
     "name": "stderr",
     "output_type": "stream",
     "text": [
      "83it [00:27,  3.83it/s]"
     ]
    },
    {
     "name": "stdout",
     "output_type": "stream",
     "text": [
      "Performing first-step alignment ...\n",
      "Performing second-step alignment ...\n",
      "Finished! Successfully aligning 26 German sentences to 22 German sentences\n",
      "\n",
      "Source language: German, Number of sentences: 25\n",
      "Target language: German, Number of sentences: 16\n",
      "Embedding source and target text using LaBSE ...\n"
     ]
    },
    {
     "name": "stderr",
     "output_type": "stream",
     "text": [
      "84it [00:28,  3.88it/s]"
     ]
    },
    {
     "name": "stdout",
     "output_type": "stream",
     "text": [
      "Performing first-step alignment ...\n",
      "Performing second-step alignment ...\n",
      "Finished! Successfully aligning 25 German sentences to 16 German sentences\n",
      "\n",
      "Source language: German, Number of sentences: 19\n",
      "Target language: German, Number of sentences: 14\n",
      "Embedding source and target text using LaBSE ...\n"
     ]
    },
    {
     "name": "stderr",
     "output_type": "stream",
     "text": [
      "85it [00:28,  3.94it/s]"
     ]
    },
    {
     "name": "stdout",
     "output_type": "stream",
     "text": [
      "Performing first-step alignment ...\n",
      "Performing second-step alignment ...\n",
      "Finished! Successfully aligning 19 German sentences to 14 German sentences\n",
      "\n",
      "Source language: German, Number of sentences: 24\n",
      "Target language: German, Number of sentences: 19\n",
      "Embedding source and target text using LaBSE ...\n"
     ]
    },
    {
     "name": "stderr",
     "output_type": "stream",
     "text": [
      "86it [00:28,  3.83it/s]"
     ]
    },
    {
     "name": "stdout",
     "output_type": "stream",
     "text": [
      "Performing first-step alignment ...\n",
      "Performing second-step alignment ...\n",
      "Finished! Successfully aligning 24 German sentences to 19 German sentences\n",
      "\n",
      "Source language: German, Number of sentences: 21\n",
      "Target language: German, Number of sentences: 14\n",
      "Embedding source and target text using LaBSE ...\n"
     ]
    },
    {
     "name": "stderr",
     "output_type": "stream",
     "text": [
      "87it [00:28,  3.76it/s]"
     ]
    },
    {
     "name": "stdout",
     "output_type": "stream",
     "text": [
      "Performing first-step alignment ...\n",
      "Performing second-step alignment ...\n",
      "Finished! Successfully aligning 21 German sentences to 14 German sentences\n",
      "\n",
      "Source language: German, Number of sentences: 22\n",
      "Target language: German, Number of sentences: 20\n",
      "Embedding source and target text using LaBSE ...\n"
     ]
    },
    {
     "name": "stderr",
     "output_type": "stream",
     "text": [
      "88it [00:29,  3.93it/s]"
     ]
    },
    {
     "name": "stdout",
     "output_type": "stream",
     "text": [
      "Performing first-step alignment ...\n",
      "Performing second-step alignment ...\n",
      "Finished! Successfully aligning 22 German sentences to 20 German sentences\n",
      "\n",
      "Source language: German, Number of sentences: 13\n",
      "Target language: German, Number of sentences: 11\n",
      "Embedding source and target text using LaBSE ...\n"
     ]
    },
    {
     "name": "stderr",
     "output_type": "stream",
     "text": [
      "89it [00:29,  4.13it/s]"
     ]
    },
    {
     "name": "stdout",
     "output_type": "stream",
     "text": [
      "Performing first-step alignment ...\n",
      "Performing second-step alignment ...\n",
      "Finished! Successfully aligning 13 German sentences to 11 German sentences\n",
      "\n",
      "Source language: German, Number of sentences: 17\n",
      "Target language: German, Number of sentences: 15\n",
      "Embedding source and target text using LaBSE ...\n"
     ]
    },
    {
     "name": "stderr",
     "output_type": "stream",
     "text": [
      "90it [00:29,  4.29it/s]"
     ]
    },
    {
     "name": "stdout",
     "output_type": "stream",
     "text": [
      "Performing first-step alignment ...\n",
      "Performing second-step alignment ...\n",
      "Finished! Successfully aligning 17 German sentences to 15 German sentences\n",
      "\n",
      "Source language: German, Number of sentences: 24\n",
      "Target language: German, Number of sentences: 17\n",
      "Embedding source and target text using LaBSE ...\n"
     ]
    },
    {
     "name": "stderr",
     "output_type": "stream",
     "text": [
      "91it [00:29,  4.20it/s]"
     ]
    },
    {
     "name": "stdout",
     "output_type": "stream",
     "text": [
      "Performing first-step alignment ...\n",
      "Performing second-step alignment ...\n",
      "Finished! Successfully aligning 24 German sentences to 17 German sentences\n",
      "\n",
      "Source language: German, Number of sentences: 14\n",
      "Target language: German, Number of sentences: 13\n",
      "Embedding source and target text using LaBSE ...\n"
     ]
    },
    {
     "name": "stderr",
     "output_type": "stream",
     "text": [
      "92it [00:29,  4.15it/s]"
     ]
    },
    {
     "name": "stdout",
     "output_type": "stream",
     "text": [
      "Performing first-step alignment ...\n",
      "Performing second-step alignment ...\n",
      "Finished! Successfully aligning 14 German sentences to 13 German sentences\n",
      "\n",
      "Source language: German, Number of sentences: 30\n",
      "Target language: German, Number of sentences: 20\n",
      "Embedding source and target text using LaBSE ...\n"
     ]
    },
    {
     "name": "stderr",
     "output_type": "stream",
     "text": [
      "93it [00:30,  3.99it/s]"
     ]
    },
    {
     "name": "stdout",
     "output_type": "stream",
     "text": [
      "Performing first-step alignment ...\n",
      "Performing second-step alignment ...\n",
      "Finished! Successfully aligning 30 German sentences to 20 German sentences\n",
      "\n",
      "Source language: German, Number of sentences: 29\n",
      "Target language: German, Number of sentences: 19\n",
      "Embedding source and target text using LaBSE ...\n"
     ]
    },
    {
     "name": "stderr",
     "output_type": "stream",
     "text": [
      "94it [00:30,  3.72it/s]"
     ]
    },
    {
     "name": "stdout",
     "output_type": "stream",
     "text": [
      "Performing first-step alignment ...\n",
      "Performing second-step alignment ...\n",
      "Finished! Successfully aligning 29 German sentences to 19 German sentences\n",
      "\n",
      "Source language: German, Number of sentences: 19\n",
      "Target language: German, Number of sentences: 19\n",
      "Embedding source and target text using LaBSE ...\n"
     ]
    },
    {
     "name": "stderr",
     "output_type": "stream",
     "text": [
      "95it [00:30,  3.69it/s]"
     ]
    },
    {
     "name": "stdout",
     "output_type": "stream",
     "text": [
      "Performing first-step alignment ...\n",
      "Performing second-step alignment ...\n",
      "Finished! Successfully aligning 19 German sentences to 19 German sentences\n",
      "\n",
      "Source language: German, Number of sentences: 20\n",
      "Target language: German, Number of sentences: 19\n",
      "Embedding source and target text using LaBSE ...\n"
     ]
    },
    {
     "name": "stderr",
     "output_type": "stream",
     "text": [
      "96it [00:31,  3.82it/s]"
     ]
    },
    {
     "name": "stdout",
     "output_type": "stream",
     "text": [
      "Performing first-step alignment ...\n",
      "Performing second-step alignment ...\n",
      "Finished! Successfully aligning 20 German sentences to 19 German sentences\n",
      "\n",
      "Source language: German, Number of sentences: 22\n",
      "Target language: German, Number of sentences: 21\n",
      "Embedding source and target text using LaBSE ...\n"
     ]
    },
    {
     "name": "stderr",
     "output_type": "stream",
     "text": [
      "97it [00:31,  3.81it/s]"
     ]
    },
    {
     "name": "stdout",
     "output_type": "stream",
     "text": [
      "Performing first-step alignment ...\n",
      "Performing second-step alignment ...\n",
      "Finished! Successfully aligning 22 German sentences to 21 German sentences\n",
      "\n",
      "Source language: German, Number of sentences: 22\n",
      "Target language: German, Number of sentences: 18\n",
      "Embedding source and target text using LaBSE ...\n"
     ]
    },
    {
     "name": "stderr",
     "output_type": "stream",
     "text": [
      "98it [00:31,  3.85it/s]"
     ]
    },
    {
     "name": "stdout",
     "output_type": "stream",
     "text": [
      "Performing first-step alignment ...\n",
      "Performing second-step alignment ...\n",
      "Finished! Successfully aligning 22 German sentences to 18 German sentences\n",
      "\n",
      "Source language: German, Number of sentences: 22\n",
      "Target language: German, Number of sentences: 19\n",
      "Embedding source and target text using LaBSE ...\n"
     ]
    },
    {
     "name": "stderr",
     "output_type": "stream",
     "text": [
      "99it [00:31,  3.98it/s]"
     ]
    },
    {
     "name": "stdout",
     "output_type": "stream",
     "text": [
      "Performing first-step alignment ...\n",
      "Performing second-step alignment ...\n",
      "Finished! Successfully aligning 22 German sentences to 19 German sentences\n",
      "\n",
      "Source language: German, Number of sentences: 24\n",
      "Target language: German, Number of sentences: 19\n",
      "Embedding source and target text using LaBSE ...\n"
     ]
    },
    {
     "name": "stderr",
     "output_type": "stream",
     "text": [
      "100it [00:32,  3.92it/s]"
     ]
    },
    {
     "name": "stdout",
     "output_type": "stream",
     "text": [
      "Performing first-step alignment ...\n",
      "Performing second-step alignment ...\n",
      "Finished! Successfully aligning 24 German sentences to 19 German sentences\n",
      "\n",
      "Source language: German, Number of sentences: 22\n",
      "Target language: German, Number of sentences: 18\n",
      "Embedding source and target text using LaBSE ...\n"
     ]
    },
    {
     "name": "stderr",
     "output_type": "stream",
     "text": [
      "101it [00:32,  3.95it/s]"
     ]
    },
    {
     "name": "stdout",
     "output_type": "stream",
     "text": [
      "Performing first-step alignment ...\n",
      "Performing second-step alignment ...\n",
      "Finished! Successfully aligning 22 German sentences to 18 German sentences\n",
      "\n",
      "Source language: German, Number of sentences: 19\n",
      "Target language: German, Number of sentences: 13\n",
      "Embedding source and target text using LaBSE ...\n"
     ]
    },
    {
     "name": "stderr",
     "output_type": "stream",
     "text": [
      "102it [00:32,  3.98it/s]"
     ]
    },
    {
     "name": "stdout",
     "output_type": "stream",
     "text": [
      "Performing first-step alignment ...\n",
      "Performing second-step alignment ...\n",
      "Finished! Successfully aligning 19 German sentences to 13 German sentences\n",
      "\n",
      "Source language: German, Number of sentences: 20\n",
      "Target language: German, Number of sentences: 23\n",
      "Embedding source and target text using LaBSE ...\n"
     ]
    },
    {
     "name": "stderr",
     "output_type": "stream",
     "text": [
      "103it [00:32,  3.91it/s]"
     ]
    },
    {
     "name": "stdout",
     "output_type": "stream",
     "text": [
      "Performing first-step alignment ...\n",
      "Performing second-step alignment ...\n",
      "Finished! Successfully aligning 20 German sentences to 23 German sentences\n",
      "\n",
      "Source language: German, Number of sentences: 17\n",
      "Target language: German, Number of sentences: 17\n",
      "Embedding source and target text using LaBSE ...\n"
     ]
    },
    {
     "name": "stderr",
     "output_type": "stream",
     "text": [
      "104it [00:33,  4.02it/s]"
     ]
    },
    {
     "name": "stdout",
     "output_type": "stream",
     "text": [
      "Performing first-step alignment ...\n",
      "Performing second-step alignment ...\n",
      "Finished! Successfully aligning 17 German sentences to 17 German sentences\n",
      "\n",
      "Source language: German, Number of sentences: 21\n",
      "Target language: German, Number of sentences: 18\n",
      "Embedding source and target text using LaBSE ...\n"
     ]
    },
    {
     "name": "stderr",
     "output_type": "stream",
     "text": [
      "105it [00:33,  3.96it/s]"
     ]
    },
    {
     "name": "stdout",
     "output_type": "stream",
     "text": [
      "Performing first-step alignment ...\n",
      "Performing second-step alignment ...\n",
      "Finished! Successfully aligning 21 German sentences to 18 German sentences\n",
      "\n",
      "Source language: German, Number of sentences: 16\n",
      "Target language: German, Number of sentences: 15\n",
      "Embedding source and target text using LaBSE ...\n"
     ]
    },
    {
     "name": "stderr",
     "output_type": "stream",
     "text": [
      "106it [00:33,  4.06it/s]"
     ]
    },
    {
     "name": "stdout",
     "output_type": "stream",
     "text": [
      "Performing first-step alignment ...\n",
      "Performing second-step alignment ...\n",
      "Finished! Successfully aligning 16 German sentences to 15 German sentences\n",
      "\n",
      "Source language: German, Number of sentences: 28\n",
      "Target language: German, Number of sentences: 19\n",
      "Embedding source and target text using LaBSE ...\n"
     ]
    },
    {
     "name": "stderr",
     "output_type": "stream",
     "text": [
      "107it [00:33,  4.07it/s]"
     ]
    },
    {
     "name": "stdout",
     "output_type": "stream",
     "text": [
      "Performing first-step alignment ...\n",
      "Performing second-step alignment ...\n",
      "Finished! Successfully aligning 28 German sentences to 19 German sentences\n",
      "\n",
      "Source language: German, Number of sentences: 26\n",
      "Target language: German, Number of sentences: 23\n",
      "Embedding source and target text using LaBSE ...\n"
     ]
    },
    {
     "name": "stderr",
     "output_type": "stream",
     "text": [
      "108it [00:34,  3.97it/s]"
     ]
    },
    {
     "name": "stdout",
     "output_type": "stream",
     "text": [
      "Performing first-step alignment ...\n",
      "Performing second-step alignment ...\n",
      "Finished! Successfully aligning 26 German sentences to 23 German sentences\n",
      "\n",
      "Source language: German, Number of sentences: 20\n",
      "Target language: German, Number of sentences: 18\n",
      "Embedding source and target text using LaBSE ...\n"
     ]
    },
    {
     "name": "stderr",
     "output_type": "stream",
     "text": [
      "109it [00:34,  4.07it/s]"
     ]
    },
    {
     "name": "stdout",
     "output_type": "stream",
     "text": [
      "Performing first-step alignment ...\n",
      "Performing second-step alignment ...\n",
      "Finished! Successfully aligning 20 German sentences to 18 German sentences\n",
      "\n",
      "Source language: German, Number of sentences: 23\n",
      "Target language: German, Number of sentences: 20\n",
      "Embedding source and target text using LaBSE ...\n"
     ]
    },
    {
     "name": "stderr",
     "output_type": "stream",
     "text": [
      "110it [00:34,  3.97it/s]"
     ]
    },
    {
     "name": "stdout",
     "output_type": "stream",
     "text": [
      "Performing first-step alignment ...\n",
      "Performing second-step alignment ...\n",
      "Finished! Successfully aligning 23 German sentences to 20 German sentences\n",
      "\n",
      "Source language: German, Number of sentences: 33\n",
      "Target language: German, Number of sentences: 24\n",
      "Embedding source and target text using LaBSE ...\n"
     ]
    },
    {
     "name": "stderr",
     "output_type": "stream",
     "text": [
      "111it [00:34,  3.69it/s]"
     ]
    },
    {
     "name": "stdout",
     "output_type": "stream",
     "text": [
      "Performing first-step alignment ...\n",
      "Performing second-step alignment ...\n",
      "Finished! Successfully aligning 33 German sentences to 24 German sentences\n",
      "\n",
      "Source language: German, Number of sentences: 27\n",
      "Target language: German, Number of sentences: 22\n",
      "Embedding source and target text using LaBSE ...\n"
     ]
    },
    {
     "name": "stderr",
     "output_type": "stream",
     "text": [
      "112it [00:35,  3.74it/s]"
     ]
    },
    {
     "name": "stdout",
     "output_type": "stream",
     "text": [
      "Performing first-step alignment ...\n",
      "Performing second-step alignment ...\n",
      "Finished! Successfully aligning 27 German sentences to 22 German sentences\n",
      "\n",
      "Source language: German, Number of sentences: 24\n",
      "Target language: German, Number of sentences: 17\n",
      "Embedding source and target text using LaBSE ...\n"
     ]
    },
    {
     "name": "stderr",
     "output_type": "stream",
     "text": [
      "113it [00:35,  3.68it/s]"
     ]
    },
    {
     "name": "stdout",
     "output_type": "stream",
     "text": [
      "Performing first-step alignment ...\n",
      "Performing second-step alignment ...\n",
      "Finished! Successfully aligning 24 German sentences to 17 German sentences\n",
      "\n",
      "Source language: German, Number of sentences: 16\n",
      "Target language: German, Number of sentences: 17\n",
      "Embedding source and target text using LaBSE ...\n"
     ]
    },
    {
     "name": "stderr",
     "output_type": "stream",
     "text": [
      "114it [00:35,  3.73it/s]"
     ]
    },
    {
     "name": "stdout",
     "output_type": "stream",
     "text": [
      "Performing first-step alignment ...\n",
      "Performing second-step alignment ...\n",
      "Finished! Successfully aligning 16 German sentences to 17 German sentences\n",
      "\n",
      "Source language: German, Number of sentences: 17\n",
      "Target language: German, Number of sentences: 15\n",
      "Embedding source and target text using LaBSE ...\n"
     ]
    },
    {
     "name": "stderr",
     "output_type": "stream",
     "text": [
      "115it [00:35,  3.82it/s]"
     ]
    },
    {
     "name": "stdout",
     "output_type": "stream",
     "text": [
      "Performing first-step alignment ...\n",
      "Performing second-step alignment ...\n",
      "Finished! Successfully aligning 17 German sentences to 15 German sentences\n",
      "\n",
      "Source language: German, Number of sentences: 22\n",
      "Target language: German, Number of sentences: 17\n",
      "Embedding source and target text using LaBSE ...\n"
     ]
    },
    {
     "name": "stderr",
     "output_type": "stream",
     "text": [
      "116it [00:36,  4.00it/s]"
     ]
    },
    {
     "name": "stdout",
     "output_type": "stream",
     "text": [
      "Performing first-step alignment ...\n",
      "Performing second-step alignment ...\n",
      "Finished! Successfully aligning 22 German sentences to 17 German sentences\n",
      "\n",
      "Source language: German, Number of sentences: 159\n",
      "Target language: German, Number of sentences: 126\n",
      "Embedding source and target text using LaBSE ...\n"
     ]
    },
    {
     "name": "stderr",
     "output_type": "stream",
     "text": [
      "117it [00:37,  2.29it/s]"
     ]
    },
    {
     "name": "stdout",
     "output_type": "stream",
     "text": [
      "Performing first-step alignment ...\n",
      "Performing second-step alignment ...\n",
      "Finished! Successfully aligning 159 German sentences to 126 German sentences\n",
      "\n",
      "Source language: German, Number of sentences: 77\n",
      "Target language: German, Number of sentences: 58\n",
      "Embedding source and target text using LaBSE ...\n"
     ]
    },
    {
     "name": "stderr",
     "output_type": "stream",
     "text": [
      "118it [00:37,  1.94it/s]"
     ]
    },
    {
     "name": "stdout",
     "output_type": "stream",
     "text": [
      "Performing first-step alignment ...\n",
      "Performing second-step alignment ...\n",
      "Finished! Successfully aligning 77 German sentences to 58 German sentences\n",
      "\n",
      "Source language: German, Number of sentences: 20\n",
      "Target language: German, Number of sentences: 76\n",
      "Embedding source and target text using LaBSE ...\n"
     ]
    },
    {
     "name": "stderr",
     "output_type": "stream",
     "text": [
      "119it [00:38,  2.05it/s]"
     ]
    },
    {
     "name": "stdout",
     "output_type": "stream",
     "text": [
      "Performing first-step alignment ...\n",
      "Performing second-step alignment ...\n",
      "Finished! Successfully aligning 20 German sentences to 76 German sentences\n",
      "\n",
      "Source language: German, Number of sentences: 43\n",
      "Target language: German, Number of sentences: 132\n",
      "Embedding source and target text using LaBSE ...\n"
     ]
    },
    {
     "name": "stderr",
     "output_type": "stream",
     "text": [
      "120it [00:38,  1.86it/s]"
     ]
    },
    {
     "name": "stdout",
     "output_type": "stream",
     "text": [
      "Performing first-step alignment ...\n",
      "Performing second-step alignment ...\n",
      "Finished! Successfully aligning 43 German sentences to 132 German sentences\n",
      "\n",
      "Source language: German, Number of sentences: 121\n",
      "Target language: German, Number of sentences: 151\n",
      "Embedding source and target text using LaBSE ...\n"
     ]
    },
    {
     "name": "stderr",
     "output_type": "stream",
     "text": [
      "121it [00:39,  1.40it/s]"
     ]
    },
    {
     "name": "stdout",
     "output_type": "stream",
     "text": [
      "Performing first-step alignment ...\n",
      "Performing second-step alignment ...\n",
      "Finished! Successfully aligning 121 German sentences to 151 German sentences\n",
      "\n",
      "Source language: German, Number of sentences: 45\n",
      "Target language: German, Number of sentences: 77\n",
      "Embedding source and target text using LaBSE ...\n"
     ]
    },
    {
     "name": "stderr",
     "output_type": "stream",
     "text": [
      "122it [00:40,  1.58it/s]"
     ]
    },
    {
     "name": "stdout",
     "output_type": "stream",
     "text": [
      "Performing first-step alignment ...\n",
      "Performing second-step alignment ...\n",
      "Finished! Successfully aligning 45 German sentences to 77 German sentences\n",
      "\n",
      "Source language: German, Number of sentences: 187\n",
      "Target language: German, Number of sentences: 77\n",
      "Embedding source and target text using LaBSE ...\n"
     ]
    },
    {
     "name": "stderr",
     "output_type": "stream",
     "text": [
      "123it [00:41,  1.32it/s]"
     ]
    },
    {
     "name": "stdout",
     "output_type": "stream",
     "text": [
      "Performing first-step alignment ...\n",
      "Performing second-step alignment ...\n",
      "Finished! Successfully aligning 187 German sentences to 77 German sentences\n",
      "\n",
      "Source language: German, Number of sentences: 128\n",
      "Target language: German, Number of sentences: 62\n",
      "Embedding source and target text using LaBSE ...\n"
     ]
    },
    {
     "name": "stderr",
     "output_type": "stream",
     "text": [
      "124it [00:42,  1.27it/s]"
     ]
    },
    {
     "name": "stdout",
     "output_type": "stream",
     "text": [
      "Performing first-step alignment ...\n",
      "Performing second-step alignment ...\n",
      "Finished! Successfully aligning 128 German sentences to 62 German sentences\n",
      "\n",
      "Source language: German, Number of sentences: 70\n",
      "Target language: German, Number of sentences: 92\n",
      "Embedding source and target text using LaBSE ...\n"
     ]
    },
    {
     "name": "stderr",
     "output_type": "stream",
     "text": [
      "125it [00:43,  1.28it/s]"
     ]
    },
    {
     "name": "stdout",
     "output_type": "stream",
     "text": [
      "Performing first-step alignment ...\n",
      "Performing second-step alignment ...\n",
      "Finished! Successfully aligning 70 German sentences to 92 German sentences\n",
      "\n",
      "Source language: German, Number of sentences: 112\n",
      "Target language: German, Number of sentences: 95\n",
      "Embedding source and target text using LaBSE ...\n"
     ]
    },
    {
     "name": "stderr",
     "output_type": "stream",
     "text": [
      "126it [00:43,  1.21it/s]"
     ]
    },
    {
     "name": "stdout",
     "output_type": "stream",
     "text": [
      "Performing first-step alignment ...\n",
      "Performing second-step alignment ...\n",
      "Finished! Successfully aligning 112 German sentences to 95 German sentences\n",
      "\n",
      "Source language: German, Number of sentences: 106\n",
      "Target language: German, Number of sentences: 86\n",
      "Embedding source and target text using LaBSE ...\n"
     ]
    },
    {
     "name": "stderr",
     "output_type": "stream",
     "text": [
      "127it [00:44,  1.23it/s]"
     ]
    },
    {
     "name": "stdout",
     "output_type": "stream",
     "text": [
      "Performing first-step alignment ...\n",
      "Performing second-step alignment ...\n",
      "Finished! Successfully aligning 106 German sentences to 86 German sentences\n",
      "\n",
      "Source language: German, Number of sentences: 257\n",
      "Target language: German, Number of sentences: 70\n",
      "Embedding source and target text using LaBSE ...\n"
     ]
    },
    {
     "name": "stderr",
     "output_type": "stream",
     "text": [
      "128it [00:46,  1.01s/it]"
     ]
    },
    {
     "name": "stdout",
     "output_type": "stream",
     "text": [
      "Performing first-step alignment ...\n",
      "Performing second-step alignment ...\n",
      "Finished! Successfully aligning 257 German sentences to 70 German sentences\n",
      "\n",
      "Source language: German, Number of sentences: 28\n",
      "Target language: German, Number of sentences: 58\n",
      "Embedding source and target text using LaBSE ...\n"
     ]
    },
    {
     "name": "stderr",
     "output_type": "stream",
     "text": [
      "129it [00:46,  1.22it/s]"
     ]
    },
    {
     "name": "stdout",
     "output_type": "stream",
     "text": [
      "Performing first-step alignment ...\n",
      "Performing second-step alignment ...\n",
      "Finished! Successfully aligning 28 German sentences to 58 German sentences\n",
      "\n",
      "Source language: German, Number of sentences: 15\n",
      "Target language: German, Number of sentences: 52\n",
      "Embedding source and target text using LaBSE ...\n"
     ]
    },
    {
     "name": "stderr",
     "output_type": "stream",
     "text": [
      "130it [00:46,  1.51it/s]"
     ]
    },
    {
     "name": "stdout",
     "output_type": "stream",
     "text": [
      "Performing first-step alignment ...\n",
      "Performing second-step alignment ...\n",
      "Finished! Successfully aligning 15 German sentences to 52 German sentences\n",
      "\n",
      "Source language: German, Number of sentences: 15\n",
      "Target language: German, Number of sentences: 18\n",
      "Embedding source and target text using LaBSE ...\n"
     ]
    },
    {
     "name": "stderr",
     "output_type": "stream",
     "text": [
      "131it [00:47,  1.90it/s]"
     ]
    },
    {
     "name": "stdout",
     "output_type": "stream",
     "text": [
      "Performing first-step alignment ...\n",
      "Performing second-step alignment ...\n",
      "Finished! Successfully aligning 15 German sentences to 18 German sentences\n",
      "\n",
      "Source language: German, Number of sentences: 29\n",
      "Target language: German, Number of sentences: 40\n",
      "Embedding source and target text using LaBSE ...\n"
     ]
    },
    {
     "name": "stderr",
     "output_type": "stream",
     "text": [
      "132it [00:47,  2.07it/s]"
     ]
    },
    {
     "name": "stdout",
     "output_type": "stream",
     "text": [
      "Performing first-step alignment ...\n",
      "Performing second-step alignment ...\n",
      "Finished! Successfully aligning 29 German sentences to 40 German sentences\n",
      "\n",
      "Source language: German, Number of sentences: 105\n",
      "Target language: German, Number of sentences: 58\n",
      "Embedding source and target text using LaBSE ...\n"
     ]
    },
    {
     "name": "stderr",
     "output_type": "stream",
     "text": [
      "133it [00:48,  1.86it/s]"
     ]
    },
    {
     "name": "stdout",
     "output_type": "stream",
     "text": [
      "Performing first-step alignment ...\n",
      "Performing second-step alignment ...\n",
      "Finished! Successfully aligning 105 German sentences to 58 German sentences\n",
      "\n",
      "Source language: German, Number of sentences: 29\n",
      "Target language: German, Number of sentences: 49\n",
      "Embedding source and target text using LaBSE ...\n"
     ]
    },
    {
     "name": "stderr",
     "output_type": "stream",
     "text": [
      "134it [00:48,  2.00it/s]"
     ]
    },
    {
     "name": "stdout",
     "output_type": "stream",
     "text": [
      "Performing first-step alignment ...\n",
      "Performing second-step alignment ...\n",
      "Finished! Successfully aligning 29 German sentences to 49 German sentences\n",
      "\n",
      "Source language: German, Number of sentences: 56\n",
      "Target language: German, Number of sentences: 289\n",
      "Embedding source and target text using LaBSE ...\n"
     ]
    },
    {
     "name": "stderr",
     "output_type": "stream",
     "text": [
      "135it [00:49,  1.53it/s]"
     ]
    },
    {
     "name": "stdout",
     "output_type": "stream",
     "text": [
      "Performing first-step alignment ...\n",
      "Performing second-step alignment ...\n",
      "Finished! Successfully aligning 56 German sentences to 289 German sentences\n",
      "\n",
      "Source language: German, Number of sentences: 57\n",
      "Target language: German, Number of sentences: 141\n",
      "Embedding source and target text using LaBSE ...\n"
     ]
    },
    {
     "name": "stderr",
     "output_type": "stream",
     "text": [
      "136it [00:50,  1.41it/s]"
     ]
    },
    {
     "name": "stdout",
     "output_type": "stream",
     "text": [
      "Performing first-step alignment ...\n",
      "Performing second-step alignment ...\n",
      "Finished! Successfully aligning 57 German sentences to 141 German sentences\n",
      "\n",
      "Source language: German, Number of sentences: 73\n",
      "Target language: German, Number of sentences: 177\n",
      "Embedding source and target text using LaBSE ...\n"
     ]
    },
    {
     "name": "stderr",
     "output_type": "stream",
     "text": [
      "137it [00:51,  1.31it/s]"
     ]
    },
    {
     "name": "stdout",
     "output_type": "stream",
     "text": [
      "Performing first-step alignment ...\n",
      "Performing second-step alignment ...\n",
      "Finished! Successfully aligning 73 German sentences to 177 German sentences\n",
      "\n",
      "Source language: German, Number of sentences: 60\n",
      "Target language: German, Number of sentences: 201\n",
      "Embedding source and target text using LaBSE ...\n"
     ]
    },
    {
     "name": "stderr",
     "output_type": "stream",
     "text": [
      "138it [00:52,  1.25it/s]"
     ]
    },
    {
     "name": "stdout",
     "output_type": "stream",
     "text": [
      "Performing first-step alignment ...\n",
      "Performing second-step alignment ...\n",
      "Finished! Successfully aligning 60 German sentences to 201 German sentences\n",
      "\n",
      "Source language: German, Number of sentences: 61\n",
      "Target language: German, Number of sentences: 215\n",
      "Embedding source and target text using LaBSE ...\n"
     ]
    },
    {
     "name": "stderr",
     "output_type": "stream",
     "text": [
      "139it [00:53,  1.22it/s]"
     ]
    },
    {
     "name": "stdout",
     "output_type": "stream",
     "text": [
      "Performing first-step alignment ...\n",
      "Performing second-step alignment ...\n",
      "Finished! Successfully aligning 61 German sentences to 215 German sentences\n",
      "\n",
      "Source language: German, Number of sentences: 51\n",
      "Target language: German, Number of sentences: 151\n",
      "Embedding source and target text using LaBSE ...\n"
     ]
    },
    {
     "name": "stderr",
     "output_type": "stream",
     "text": [
      "140it [00:53,  1.26it/s]"
     ]
    },
    {
     "name": "stdout",
     "output_type": "stream",
     "text": [
      "Performing first-step alignment ...\n",
      "Performing second-step alignment ...\n",
      "Finished! Successfully aligning 51 German sentences to 151 German sentences\n",
      "\n",
      "Source language: German, Number of sentences: 159\n",
      "Target language: German, Number of sentences: 222\n",
      "Embedding source and target text using LaBSE ...\n"
     ]
    },
    {
     "name": "stderr",
     "output_type": "stream",
     "text": [
      "141it [00:55,  1.02it/s]"
     ]
    },
    {
     "name": "stdout",
     "output_type": "stream",
     "text": [
      "Performing first-step alignment ...\n",
      "Performing second-step alignment ...\n",
      "Finished! Successfully aligning 159 German sentences to 222 German sentences\n",
      "\n",
      "Source language: German, Number of sentences: 60\n",
      "Target language: German, Number of sentences: 228\n",
      "Embedding source and target text using LaBSE ...\n"
     ]
    },
    {
     "name": "stderr",
     "output_type": "stream",
     "text": [
      "142it [00:56,  1.04it/s]"
     ]
    },
    {
     "name": "stdout",
     "output_type": "stream",
     "text": [
      "Performing first-step alignment ...\n",
      "Performing second-step alignment ...\n",
      "Finished! Successfully aligning 60 German sentences to 228 German sentences\n",
      "\n",
      "Source language: German, Number of sentences: 63\n",
      "Target language: German, Number of sentences: 213\n",
      "Embedding source and target text using LaBSE ...\n"
     ]
    },
    {
     "name": "stderr",
     "output_type": "stream",
     "text": [
      "143it [00:57,  1.05it/s]"
     ]
    },
    {
     "name": "stdout",
     "output_type": "stream",
     "text": [
      "Performing first-step alignment ...\n",
      "Performing second-step alignment ...\n",
      "Finished! Successfully aligning 63 German sentences to 213 German sentences\n",
      "\n",
      "Source language: German, Number of sentences: 50\n",
      "Target language: German, Number of sentences: 298\n",
      "Embedding source and target text using LaBSE ...\n"
     ]
    },
    {
     "name": "stderr",
     "output_type": "stream",
     "text": [
      "144it [00:58,  1.01it/s]"
     ]
    },
    {
     "name": "stdout",
     "output_type": "stream",
     "text": [
      "Performing first-step alignment ...\n",
      "Performing second-step alignment ...\n",
      "Finished! Successfully aligning 50 German sentences to 298 German sentences\n",
      "\n",
      "Source language: German, Number of sentences: 85\n",
      "Target language: German, Number of sentences: 100\n",
      "Embedding source and target text using LaBSE ...\n"
     ]
    },
    {
     "name": "stderr",
     "output_type": "stream",
     "text": [
      "145it [00:58,  1.08it/s]"
     ]
    },
    {
     "name": "stdout",
     "output_type": "stream",
     "text": [
      "Performing first-step alignment ...\n",
      "Performing second-step alignment ...\n",
      "Finished! Successfully aligning 85 German sentences to 100 German sentences\n",
      "\n",
      "Source language: German, Number of sentences: 100\n",
      "Target language: German, Number of sentences: 104\n",
      "Embedding source and target text using LaBSE ...\n"
     ]
    },
    {
     "name": "stderr",
     "output_type": "stream",
     "text": [
      "146it [00:59,  1.13it/s]"
     ]
    },
    {
     "name": "stdout",
     "output_type": "stream",
     "text": [
      "Performing first-step alignment ...\n",
      "Performing second-step alignment ...\n",
      "Finished! Successfully aligning 100 German sentences to 104 German sentences\n",
      "\n",
      "Source language: German, Number of sentences: 201\n",
      "Target language: German, Number of sentences: 131\n",
      "Embedding source and target text using LaBSE ...\n"
     ]
    },
    {
     "name": "stderr",
     "output_type": "stream",
     "text": [
      "147it [01:01,  2.40it/s]"
     ]
    },
    {
     "name": "stdout",
     "output_type": "stream",
     "text": [
      "Performing first-step alignment ...\n",
      "Performing second-step alignment ...\n",
      "Finished! Successfully aligning 201 German sentences to 131 German sentences\n",
      "\n"
     ]
    },
    {
     "name": "stderr",
     "output_type": "stream",
     "text": [
      "\n"
     ]
    }
   ],
   "source": [
    "alignments = get_n_m_alignments(\n",
    "    complex_file=src_file, \n",
    "    simple_file=tgt_file,\n",
    "    output_file=output_file,\n",
    "    allow_1_1=True,\n",
    "    allow_1_m=True,\n",
    "    allow_n_1=True\n",
    ")"
   ]
  },
  {
   "cell_type": "code",
   "execution_count": 12,
   "id": "b9129e5f-123a-41f4-b69c-bc52e18bfe6c",
   "metadata": {},
   "outputs": [
    {
     "name": "stdout",
     "output_type": "stream",
     "text": [
      "precision: 0.3867639657775541\n",
      "recall: 0.5607442539219263\n",
      "f1: 0.4577810871183917\n",
      "n_gold: 2741, n_out: 3974, correct: 1537.\n",
      "===========================================================================================================\n",
      "n_1:1_aligns: 1714, n_correct_1:1_aligns: 1274.\n",
      "n_1:m_aligns: 1411, n_correct_1:m_aligns: 241.\n",
      "n_n:1_aligns: 849, n_correct_n:1_aligns: 22.\n",
      "===========================================================================================================\n"
     ]
    }
   ],
   "source": [
    "precision, recall, n_gold, n_out, correct, f1, n_11, n_1m, n_n1, correct_n_11, correct_n_1m, correct_n_n1 = evaluate_n_m(\n",
    "    gold_src=gold_src, \n",
    "    gold_tgt=gold_tgt, \n",
    "    out_complex=output_file+'.complex', \n",
    "    out_simpl=output_file+'.simpl',\n",
    "    types=output_file+'.types'\n",
    ")\n",
    "print(f'precision: {precision}')\n",
    "print(f'recall: {recall}')\n",
    "print(f'f1: {f1}')\n",
    "print(f'n_gold: {n_gold}, n_out: {n_out}, correct: {correct}.')\n",
    "print('===========================================================================================================')\n",
    "print(f'n_1:1_aligns: {n_11}, n_correct_1:1_aligns: {correct_n_11}.')\n",
    "print(f'n_1:m_aligns: {n_1m}, n_correct_1:m_aligns: {correct_n_1m}.')\n",
    "print(f'n_n:1_aligns: {n_n1}, n_correct_n:1_aligns: {correct_n_n1}.')\n",
    "print('===========================================================================================================')"
   ]
  },
  {
   "cell_type": "code",
   "execution_count": null,
   "id": "123891dd-5fb4-4bf0-916f-d97c4cd98699",
   "metadata": {},
   "outputs": [],
   "source": []
  },
  {
   "cell_type": "markdown",
   "id": "3307d04d-0d33-4037-b550-ff8518cf10e1",
   "metadata": {},
   "source": [
    "## Experiment 2: Finding 1-1, and 1-m alignments"
   ]
  },
  {
   "cell_type": "code",
   "execution_count": 13,
   "id": "e407e53e-171c-48a2-bd60-79498139b695",
   "metadata": {
    "scrolled": true,
    "tags": []
   },
   "outputs": [
    {
     "name": "stderr",
     "output_type": "stream",
     "text": [
      "0it [00:00, ?it/s]"
     ]
    },
    {
     "name": "stdout",
     "output_type": "stream",
     "text": [
      "Source language: German, Number of sentences: 49\n",
      "Target language: German, Number of sentences: 101\n",
      "Embedding source and target text using LaBSE ...\n"
     ]
    },
    {
     "name": "stderr",
     "output_type": "stream",
     "text": [
      "1it [00:00,  1.79it/s]"
     ]
    },
    {
     "name": "stdout",
     "output_type": "stream",
     "text": [
      "Performing first-step alignment ...\n",
      "Performing second-step alignment ...\n",
      "Finished! Successfully aligning 49 German sentences to 101 German sentences\n",
      "\n",
      "Source language: German, Number of sentences: 19\n",
      "Target language: German, Number of sentences: 40\n",
      "Embedding source and target text using LaBSE ...\n"
     ]
    },
    {
     "name": "stderr",
     "output_type": "stream",
     "text": [
      "2it [00:00,  2.56it/s]"
     ]
    },
    {
     "name": "stdout",
     "output_type": "stream",
     "text": [
      "Performing first-step alignment ...\n",
      "Performing second-step alignment ...\n",
      "Finished! Successfully aligning 19 German sentences to 40 German sentences\n",
      "\n",
      "Source language: German, Number of sentences: 48\n",
      "Target language: German, Number of sentences: 25\n",
      "Embedding source and target text using LaBSE ...\n"
     ]
    },
    {
     "name": "stderr",
     "output_type": "stream",
     "text": [
      "3it [00:01,  2.73it/s]"
     ]
    },
    {
     "name": "stdout",
     "output_type": "stream",
     "text": [
      "Performing first-step alignment ...\n",
      "Performing second-step alignment ...\n",
      "Finished! Successfully aligning 48 German sentences to 25 German sentences\n",
      "\n",
      "Source language: German, Number of sentences: 48\n",
      "Target language: German, Number of sentences: 23\n",
      "Embedding source and target text using LaBSE ...\n"
     ]
    },
    {
     "name": "stderr",
     "output_type": "stream",
     "text": [
      "4it [00:01,  2.83it/s]"
     ]
    },
    {
     "name": "stdout",
     "output_type": "stream",
     "text": [
      "Performing first-step alignment ...\n",
      "Performing second-step alignment ...\n",
      "Finished! Successfully aligning 48 German sentences to 23 German sentences\n",
      "\n",
      "Source language: German, Number of sentences: 48\n",
      "Target language: German, Number of sentences: 35\n",
      "Embedding source and target text using LaBSE ...\n"
     ]
    },
    {
     "name": "stderr",
     "output_type": "stream",
     "text": [
      "5it [00:01,  2.75it/s]"
     ]
    },
    {
     "name": "stdout",
     "output_type": "stream",
     "text": [
      "Performing first-step alignment ...\n",
      "Performing second-step alignment ...\n",
      "Finished! Successfully aligning 48 German sentences to 35 German sentences\n",
      "\n",
      "Source language: German, Number of sentences: 38\n",
      "Target language: German, Number of sentences: 36\n",
      "Embedding source and target text using LaBSE ...\n"
     ]
    },
    {
     "name": "stderr",
     "output_type": "stream",
     "text": [
      "6it [00:02,  2.63it/s]"
     ]
    },
    {
     "name": "stdout",
     "output_type": "stream",
     "text": [
      "Performing first-step alignment ...\n",
      "Performing second-step alignment ...\n",
      "Finished! Successfully aligning 38 German sentences to 36 German sentences\n",
      "\n",
      "Source language: German, Number of sentences: 38\n",
      "Target language: German, Number of sentences: 45\n",
      "Embedding source and target text using LaBSE ...\n"
     ]
    },
    {
     "name": "stderr",
     "output_type": "stream",
     "text": [
      "7it [00:02,  2.54it/s]"
     ]
    },
    {
     "name": "stdout",
     "output_type": "stream",
     "text": [
      "Performing first-step alignment ...\n",
      "Performing second-step alignment ...\n",
      "Finished! Successfully aligning 38 German sentences to 45 German sentences\n",
      "\n",
      "Source language: German, Number of sentences: 31\n",
      "Target language: German, Number of sentences: 40\n",
      "Embedding source and target text using LaBSE ...\n"
     ]
    },
    {
     "name": "stderr",
     "output_type": "stream",
     "text": [
      "8it [00:03,  2.71it/s]"
     ]
    },
    {
     "name": "stdout",
     "output_type": "stream",
     "text": [
      "Performing first-step alignment ...\n",
      "Performing second-step alignment ...\n",
      "Finished! Successfully aligning 31 German sentences to 40 German sentences\n",
      "\n",
      "Source language: German, Number of sentences: 30\n",
      "Target language: German, Number of sentences: 41\n",
      "Embedding source and target text using LaBSE ...\n"
     ]
    },
    {
     "name": "stderr",
     "output_type": "stream",
     "text": [
      "9it [00:03,  2.72it/s]"
     ]
    },
    {
     "name": "stdout",
     "output_type": "stream",
     "text": [
      "Performing first-step alignment ...\n",
      "Performing second-step alignment ...\n",
      "Finished! Successfully aligning 30 German sentences to 41 German sentences\n",
      "\n",
      "Source language: German, Number of sentences: 30\n",
      "Target language: German, Number of sentences: 15\n",
      "Embedding source and target text using LaBSE ...\n"
     ]
    },
    {
     "name": "stderr",
     "output_type": "stream",
     "text": [
      "10it [00:03,  2.85it/s]"
     ]
    },
    {
     "name": "stdout",
     "output_type": "stream",
     "text": [
      "Performing first-step alignment ...\n",
      "Performing second-step alignment ...\n",
      "Finished! Successfully aligning 30 German sentences to 15 German sentences\n",
      "\n",
      "Source language: German, Number of sentences: 30\n",
      "Target language: German, Number of sentences: 41\n",
      "Embedding source and target text using LaBSE ...\n"
     ]
    },
    {
     "name": "stderr",
     "output_type": "stream",
     "text": [
      "11it [00:04,  2.85it/s]"
     ]
    },
    {
     "name": "stdout",
     "output_type": "stream",
     "text": [
      "Performing first-step alignment ...\n",
      "Performing second-step alignment ...\n",
      "Finished! Successfully aligning 30 German sentences to 41 German sentences\n",
      "\n",
      "Source language: German, Number of sentences: 49\n",
      "Target language: German, Number of sentences: 89\n",
      "Embedding source and target text using LaBSE ...\n"
     ]
    },
    {
     "name": "stderr",
     "output_type": "stream",
     "text": [
      "12it [00:04,  2.35it/s]"
     ]
    },
    {
     "name": "stdout",
     "output_type": "stream",
     "text": [
      "Performing first-step alignment ...\n",
      "Performing second-step alignment ...\n",
      "Finished! Successfully aligning 49 German sentences to 89 German sentences\n",
      "\n",
      "Source language: German, Number of sentences: 73\n",
      "Target language: German, Number of sentences: 61\n",
      "Embedding source and target text using LaBSE ...\n"
     ]
    },
    {
     "name": "stderr",
     "output_type": "stream",
     "text": [
      "13it [00:05,  1.95it/s]"
     ]
    },
    {
     "name": "stdout",
     "output_type": "stream",
     "text": [
      "Performing first-step alignment ...\n",
      "Performing second-step alignment ...\n",
      "Finished! Successfully aligning 73 German sentences to 61 German sentences\n",
      "\n",
      "Source language: German, Number of sentences: 188\n",
      "Target language: German, Number of sentences: 77\n",
      "Embedding source and target text using LaBSE ...\n"
     ]
    },
    {
     "name": "stderr",
     "output_type": "stream",
     "text": [
      "13it [00:05,  2.26it/s]\n"
     ]
    },
    {
     "ename": "KeyboardInterrupt",
     "evalue": "",
     "output_type": "error",
     "traceback": [
      "\u001b[0;31m---------------------------------------------------------------------------\u001b[0m",
      "\u001b[0;31mKeyboardInterrupt\u001b[0m                         Traceback (most recent call last)",
      "Cell \u001b[0;32mIn[13], line 1\u001b[0m\n\u001b[0;32m----> 1\u001b[0m alignments \u001b[38;5;241m=\u001b[39m \u001b[43mget_n_m_alignments\u001b[49m\u001b[43m(\u001b[49m\n\u001b[1;32m      2\u001b[0m \u001b[43m    \u001b[49m\u001b[43mcomplex_file\u001b[49m\u001b[38;5;241;43m=\u001b[39;49m\u001b[43msrc_file\u001b[49m\u001b[43m,\u001b[49m\u001b[43m \u001b[49m\n\u001b[1;32m      3\u001b[0m \u001b[43m    \u001b[49m\u001b[43msimple_file\u001b[49m\u001b[38;5;241;43m=\u001b[39;49m\u001b[43mtgt_file\u001b[49m\u001b[43m,\u001b[49m\n\u001b[1;32m      4\u001b[0m \u001b[43m    \u001b[49m\u001b[43moutput_file\u001b[49m\u001b[38;5;241;43m=\u001b[39;49m\u001b[43moutput_file\u001b[49m\u001b[43m,\u001b[49m\n\u001b[1;32m      5\u001b[0m \u001b[43m    \u001b[49m\u001b[43mallow_1_1\u001b[49m\u001b[38;5;241;43m=\u001b[39;49m\u001b[38;5;28;43;01mTrue\u001b[39;49;00m\u001b[43m,\u001b[49m\n\u001b[1;32m      6\u001b[0m \u001b[43m    \u001b[49m\u001b[43mallow_1_m\u001b[49m\u001b[38;5;241;43m=\u001b[39;49m\u001b[38;5;28;43;01mTrue\u001b[39;49;00m\u001b[43m,\u001b[49m\n\u001b[1;32m      7\u001b[0m \u001b[43m    \u001b[49m\u001b[43mallow_n_1\u001b[49m\u001b[38;5;241;43m=\u001b[39;49m\u001b[38;5;28;43;01mFalse\u001b[39;49;00m\n\u001b[1;32m      8\u001b[0m \u001b[43m)\u001b[49m\n",
      "File \u001b[0;32m~/lab/models/16.11.22/Alignment_Methods/bertalign/bertalign/aligner.py:155\u001b[0m, in \u001b[0;36mget_n_m_alignments\u001b[0;34m(complex_file, simple_file, output_file, allow_1_1, allow_1_m, allow_n_1)\u001b[0m\n\u001b[1;32m    153\u001b[0m n_11 \u001b[38;5;241m=\u001b[39m n_1m \u001b[38;5;241m=\u001b[39m n_n1 \u001b[38;5;241m=\u001b[39m \u001b[38;5;241m0\u001b[39m \n\u001b[1;32m    154\u001b[0m \u001b[38;5;28;01mfor\u001b[39;00m src_doc_lines, tgt_doc_lines \u001b[38;5;129;01min\u001b[39;00m tqdm(\u001b[38;5;28mzip\u001b[39m(src_all_docs_lines, tgt_all_docs_lines)):\n\u001b[0;32m--> 155\u001b[0m     alignments, compl_list, simpl_list \u001b[38;5;241m=\u001b[39m \u001b[43mget_alignments\u001b[49m\u001b[43m(\u001b[49m\u001b[43msrc_doc_lines\u001b[49m\u001b[43m,\u001b[49m\u001b[43m \u001b[49m\u001b[43mtgt_doc_lines\u001b[49m\u001b[43m)\u001b[49m\n\u001b[1;32m    157\u001b[0m     alignments__ \u001b[38;5;241m=\u001b[39m []\n\u001b[1;32m    158\u001b[0m     i \u001b[38;5;241m=\u001b[39m \u001b[38;5;241m0\u001b[39m\n",
      "File \u001b[0;32m~/lab/models/16.11.22/Alignment_Methods/bertalign/bertalign/aligner.py:113\u001b[0m, in \u001b[0;36mget_n_m_alignments.<locals>.get_alignments\u001b[0;34m(src_doc_lines, tgt_doc_lines)\u001b[0m\n\u001b[1;32m    112\u001b[0m \u001b[38;5;28;01mdef\u001b[39;00m \u001b[38;5;21mget_alignments\u001b[39m(src_doc_lines, tgt_doc_lines):\n\u001b[0;32m--> 113\u001b[0m     aligner \u001b[38;5;241m=\u001b[39m \u001b[43mBertalign\u001b[49m\u001b[43m(\u001b[49m\u001b[43msrc_doc_lines\u001b[49m\u001b[43m,\u001b[49m\u001b[43m \u001b[49m\u001b[43mtgt_doc_lines\u001b[49m\u001b[43m)\u001b[49m\n\u001b[1;32m    114\u001b[0m     aligner\u001b[38;5;241m.\u001b[39malign_sents()\n\u001b[1;32m    115\u001b[0m     results \u001b[38;5;241m=\u001b[39m aligner\u001b[38;5;241m.\u001b[39mresult\n",
      "File \u001b[0;32m~/lab/models/16.11.22/Alignment_Methods/bertalign/bertalign/aligner.py:53\u001b[0m, in \u001b[0;36mBertalign.__init__\u001b[0;34m(self, src, tgt, max_align, top_k, win, skip, margin, len_penalty, is_split)\u001b[0m\n\u001b[1;32m     50\u001b[0m \u001b[38;5;28mprint\u001b[39m(\u001b[38;5;124m\"\u001b[39m\u001b[38;5;124mTarget language: \u001b[39m\u001b[38;5;132;01m{}\u001b[39;00m\u001b[38;5;124m, Number of sentences: \u001b[39m\u001b[38;5;132;01m{}\u001b[39;00m\u001b[38;5;124m\"\u001b[39m\u001b[38;5;241m.\u001b[39mformat(tgt_lang, tgt_num))\n\u001b[1;32m     52\u001b[0m \u001b[38;5;28mprint\u001b[39m(\u001b[38;5;124m\"\u001b[39m\u001b[38;5;124mEmbedding source and target text using \u001b[39m\u001b[38;5;132;01m{}\u001b[39;00m\u001b[38;5;124m ...\u001b[39m\u001b[38;5;124m\"\u001b[39m\u001b[38;5;241m.\u001b[39mformat(model\u001b[38;5;241m.\u001b[39mmodel_name))\n\u001b[0;32m---> 53\u001b[0m src_vecs, src_lens \u001b[38;5;241m=\u001b[39m \u001b[43mmodel\u001b[49m\u001b[38;5;241;43m.\u001b[39;49m\u001b[43mtransform\u001b[49m\u001b[43m(\u001b[49m\u001b[43msrc_sents\u001b[49m\u001b[43m,\u001b[49m\u001b[43m \u001b[49m\u001b[43mmax_align\u001b[49m\u001b[43m \u001b[49m\u001b[38;5;241;43m-\u001b[39;49m\u001b[43m \u001b[49m\u001b[38;5;241;43m1\u001b[39;49m\u001b[43m)\u001b[49m\n\u001b[1;32m     54\u001b[0m tgt_vecs, tgt_lens \u001b[38;5;241m=\u001b[39m model\u001b[38;5;241m.\u001b[39mtransform(tgt_sents, max_align \u001b[38;5;241m-\u001b[39m \u001b[38;5;241m1\u001b[39m)\n\u001b[1;32m     56\u001b[0m char_ratio \u001b[38;5;241m=\u001b[39m np\u001b[38;5;241m.\u001b[39msum(src_lens[\u001b[38;5;241m0\u001b[39m,]) \u001b[38;5;241m/\u001b[39m np\u001b[38;5;241m.\u001b[39msum(tgt_lens[\u001b[38;5;241m0\u001b[39m,])\n",
      "File \u001b[0;32m~/lab/models/16.11.22/Alignment_Methods/bertalign/bertalign/encoder.py:16\u001b[0m, in \u001b[0;36mEncoder.transform\u001b[0;34m(self, sents, num_overlaps)\u001b[0m\n\u001b[1;32m     13\u001b[0m \u001b[38;5;28;01mfor\u001b[39;00m line \u001b[38;5;129;01min\u001b[39;00m yield_overlaps(sents, num_overlaps):\n\u001b[1;32m     14\u001b[0m     overlaps\u001b[38;5;241m.\u001b[39mappend(line)\n\u001b[0;32m---> 16\u001b[0m sent_vecs \u001b[38;5;241m=\u001b[39m \u001b[38;5;28;43mself\u001b[39;49m\u001b[38;5;241;43m.\u001b[39;49m\u001b[43mmodel\u001b[49m\u001b[38;5;241;43m.\u001b[39;49m\u001b[43mencode\u001b[49m\u001b[43m(\u001b[49m\u001b[43moverlaps\u001b[49m\u001b[43m)\u001b[49m\n\u001b[1;32m     17\u001b[0m embedding_dim \u001b[38;5;241m=\u001b[39m sent_vecs\u001b[38;5;241m.\u001b[39msize \u001b[38;5;241m/\u001b[39m\u001b[38;5;241m/\u001b[39m (\u001b[38;5;28mlen\u001b[39m(sents) \u001b[38;5;241m*\u001b[39m num_overlaps)\n\u001b[1;32m     18\u001b[0m sent_vecs\u001b[38;5;241m.\u001b[39mresize(num_overlaps, \u001b[38;5;28mlen\u001b[39m(sents), embedding_dim)\n",
      "File \u001b[0;32m~/miniconda3/envs/bertalign/lib/python3.8/site-packages/sentence_transformers/SentenceTransformer.py:188\u001b[0m, in \u001b[0;36mSentenceTransformer.encode\u001b[0;34m(self, sentences, batch_size, show_progress_bar, output_value, convert_to_numpy, convert_to_tensor, device, normalize_embeddings)\u001b[0m\n\u001b[1;32m    186\u001b[0m             \u001b[38;5;66;03m# fixes for #522 and #487 to avoid oom problems on gpu with large datasets\u001b[39;00m\n\u001b[1;32m    187\u001b[0m             \u001b[38;5;28;01mif\u001b[39;00m convert_to_numpy:\n\u001b[0;32m--> 188\u001b[0m                 embeddings \u001b[38;5;241m=\u001b[39m \u001b[43membeddings\u001b[49m\u001b[38;5;241;43m.\u001b[39;49m\u001b[43mcpu\u001b[49m\u001b[43m(\u001b[49m\u001b[43m)\u001b[49m\n\u001b[1;32m    190\u001b[0m         all_embeddings\u001b[38;5;241m.\u001b[39mextend(embeddings)\n\u001b[1;32m    192\u001b[0m all_embeddings \u001b[38;5;241m=\u001b[39m [all_embeddings[idx] \u001b[38;5;28;01mfor\u001b[39;00m idx \u001b[38;5;129;01min\u001b[39;00m np\u001b[38;5;241m.\u001b[39margsort(length_sorted_idx)]\n",
      "\u001b[0;31mKeyboardInterrupt\u001b[0m: "
     ]
    }
   ],
   "source": [
    "alignments = get_n_m_alignments(\n",
    "    complex_file=src_file, \n",
    "    simple_file=tgt_file,\n",
    "    output_file=output_file,\n",
    "    allow_1_1=True,\n",
    "    allow_1_m=True,\n",
    "    allow_n_1=False\n",
    ")"
   ]
  },
  {
   "cell_type": "code",
   "execution_count": 10,
   "id": "1fafb157-c02f-43e3-862a-762fc9ba8737",
   "metadata": {},
   "outputs": [
    {
     "name": "stdout",
     "output_type": "stream",
     "text": [
      "precision: 0.4848\n",
      "recall: 0.5527179861364465\n",
      "f1: 0.5165359699965906\n",
      "n_gold: 2741, n_out: 3125, correct: 1515.\n",
      "===========================================================================================================\n",
      "n_1:1_aligns: 1714, n_correct_1:1_aligns: 1274.\n",
      "n_1:m_aligns: 1411, n_correct_1:m_aligns: 241.\n",
      "n_n:1_aligns: 0, n_correct_n:1_aligns: 0.\n",
      "===========================================================================================================\n"
     ]
    }
   ],
   "source": [
    "precision, recall, n_gold, n_out, correct, f1, n_11, n_1m, n_n1, correct_n_11, correct_n_1m, correct_n_n1 = evaluate_n_m(\n",
    "    gold_src=gold_src, \n",
    "    gold_tgt=gold_tgt, \n",
    "    out_complex=output_file+'.complex', \n",
    "    out_simpl=output_file+'.simpl',\n",
    "    types=output_file+'.types'\n",
    ")\n",
    "print(f'precision: {precision}')\n",
    "print(f'recall: {recall}')\n",
    "print(f'f1: {f1}')\n",
    "print(f'n_gold: {n_gold}, n_out: {n_out}, correct: {correct}.')\n",
    "print('===========================================================================================================')\n",
    "print(f'n_1:1_aligns: {n_11}, n_correct_1:1_aligns: {correct_n_11}.')\n",
    "print(f'n_1:m_aligns: {n_1m}, n_correct_1:m_aligns: {correct_n_1m}.')\n",
    "print(f'n_n:1_aligns: {n_n1}, n_correct_n:1_aligns: {correct_n_n1}.')\n",
    "print('===========================================================================================================')"
   ]
  },
  {
   "cell_type": "code",
   "execution_count": null,
   "id": "be6e2933-8b3d-4550-bd0f-346ed1046a96",
   "metadata": {},
   "outputs": [],
   "source": []
  },
  {
   "cell_type": "markdown",
   "id": "3816e8c8-6b3c-4e72-a2f5-68170f95454c",
   "metadata": {},
   "source": [
    "## Experiment 3: Finding 1-1 alignments only"
   ]
  },
  {
   "cell_type": "code",
   "execution_count": 16,
   "id": "0d0eed6e-2b9d-44bc-9609-24231cc91165",
   "metadata": {
    "scrolled": true,
    "tags": []
   },
   "outputs": [
    {
     "name": "stderr",
     "output_type": "stream",
     "text": [
      "0it [00:00, ?it/s]"
     ]
    },
    {
     "name": "stdout",
     "output_type": "stream",
     "text": [
      "Source language: German, Number of sentences: 49\n",
      "Target language: German, Number of sentences: 101\n",
      "Embedding source and target text using LaBSE ...\n"
     ]
    },
    {
     "name": "stderr",
     "output_type": "stream",
     "text": [
      "1it [00:00,  1.78it/s]"
     ]
    },
    {
     "name": "stdout",
     "output_type": "stream",
     "text": [
      "Performing first-step alignment ...\n",
      "Performing second-step alignment ...\n",
      "Finished! Successfully aligning 49 German sentences to 101 German sentences\n",
      "\n",
      "Source language: German, Number of sentences: 19\n",
      "Target language: German, Number of sentences: 40\n",
      "Embedding source and target text using LaBSE ...\n"
     ]
    },
    {
     "name": "stderr",
     "output_type": "stream",
     "text": [
      "2it [00:00,  2.57it/s]"
     ]
    },
    {
     "name": "stdout",
     "output_type": "stream",
     "text": [
      "Performing first-step alignment ...\n",
      "Performing second-step alignment ...\n",
      "Finished! Successfully aligning 19 German sentences to 40 German sentences\n",
      "\n",
      "Source language: German, Number of sentences: 48\n",
      "Target language: German, Number of sentences: 25\n",
      "Embedding source and target text using LaBSE ...\n"
     ]
    },
    {
     "name": "stderr",
     "output_type": "stream",
     "text": [
      "3it [00:01,  2.73it/s]"
     ]
    },
    {
     "name": "stdout",
     "output_type": "stream",
     "text": [
      "Performing first-step alignment ...\n",
      "Performing second-step alignment ...\n",
      "Finished! Successfully aligning 48 German sentences to 25 German sentences\n",
      "\n",
      "Source language: German, Number of sentences: 48\n",
      "Target language: German, Number of sentences: 23\n",
      "Embedding source and target text using LaBSE ...\n"
     ]
    },
    {
     "name": "stderr",
     "output_type": "stream",
     "text": [
      "4it [00:01,  2.84it/s]"
     ]
    },
    {
     "name": "stdout",
     "output_type": "stream",
     "text": [
      "Performing first-step alignment ...\n",
      "Performing second-step alignment ...\n",
      "Finished! Successfully aligning 48 German sentences to 23 German sentences\n",
      "\n",
      "Source language: German, Number of sentences: 48\n",
      "Target language: German, Number of sentences: 35\n",
      "Embedding source and target text using LaBSE ...\n"
     ]
    },
    {
     "name": "stderr",
     "output_type": "stream",
     "text": [
      "5it [00:01,  2.76it/s]"
     ]
    },
    {
     "name": "stdout",
     "output_type": "stream",
     "text": [
      "Performing first-step alignment ...\n",
      "Performing second-step alignment ...\n",
      "Finished! Successfully aligning 48 German sentences to 35 German sentences\n",
      "\n",
      "Source language: German, Number of sentences: 38\n",
      "Target language: German, Number of sentences: 36\n",
      "Embedding source and target text using LaBSE ...\n"
     ]
    },
    {
     "name": "stderr",
     "output_type": "stream",
     "text": [
      "6it [00:02,  2.64it/s]"
     ]
    },
    {
     "name": "stdout",
     "output_type": "stream",
     "text": [
      "Performing first-step alignment ...\n",
      "Performing second-step alignment ...\n",
      "Finished! Successfully aligning 38 German sentences to 36 German sentences\n",
      "\n",
      "Source language: German, Number of sentences: 38\n",
      "Target language: German, Number of sentences: 45\n",
      "Embedding source and target text using LaBSE ...\n"
     ]
    },
    {
     "name": "stderr",
     "output_type": "stream",
     "text": [
      "7it [00:02,  2.55it/s]"
     ]
    },
    {
     "name": "stdout",
     "output_type": "stream",
     "text": [
      "Performing first-step alignment ...\n",
      "Performing second-step alignment ...\n",
      "Finished! Successfully aligning 38 German sentences to 45 German sentences\n",
      "\n",
      "Source language: German, Number of sentences: 31\n",
      "Target language: German, Number of sentences: 40\n",
      "Embedding source and target text using LaBSE ...\n"
     ]
    },
    {
     "name": "stderr",
     "output_type": "stream",
     "text": [
      "8it [00:03,  2.73it/s]"
     ]
    },
    {
     "name": "stdout",
     "output_type": "stream",
     "text": [
      "Performing first-step alignment ...\n",
      "Performing second-step alignment ...\n",
      "Finished! Successfully aligning 31 German sentences to 40 German sentences\n",
      "\n",
      "Source language: German, Number of sentences: 30\n",
      "Target language: German, Number of sentences: 41\n",
      "Embedding source and target text using LaBSE ...\n"
     ]
    },
    {
     "name": "stderr",
     "output_type": "stream",
     "text": [
      "9it [00:03,  2.74it/s]"
     ]
    },
    {
     "name": "stdout",
     "output_type": "stream",
     "text": [
      "Performing first-step alignment ...\n",
      "Performing second-step alignment ...\n",
      "Finished! Successfully aligning 30 German sentences to 41 German sentences\n",
      "\n",
      "Source language: German, Number of sentences: 30\n",
      "Target language: German, Number of sentences: 15\n",
      "Embedding source and target text using LaBSE ...\n"
     ]
    },
    {
     "name": "stderr",
     "output_type": "stream",
     "text": [
      "10it [00:03,  2.87it/s]"
     ]
    },
    {
     "name": "stdout",
     "output_type": "stream",
     "text": [
      "Performing first-step alignment ...\n",
      "Performing second-step alignment ...\n",
      "Finished! Successfully aligning 30 German sentences to 15 German sentences\n",
      "\n",
      "Source language: German, Number of sentences: 30\n",
      "Target language: German, Number of sentences: 41\n",
      "Embedding source and target text using LaBSE ...\n"
     ]
    },
    {
     "name": "stderr",
     "output_type": "stream",
     "text": [
      "11it [00:04,  2.85it/s]"
     ]
    },
    {
     "name": "stdout",
     "output_type": "stream",
     "text": [
      "Performing first-step alignment ...\n",
      "Performing second-step alignment ...\n",
      "Finished! Successfully aligning 30 German sentences to 41 German sentences\n",
      "\n",
      "Source language: German, Number of sentences: 49\n",
      "Target language: German, Number of sentences: 89\n",
      "Embedding source and target text using LaBSE ...\n"
     ]
    },
    {
     "name": "stderr",
     "output_type": "stream",
     "text": [
      "12it [00:04,  2.35it/s]"
     ]
    },
    {
     "name": "stdout",
     "output_type": "stream",
     "text": [
      "Performing first-step alignment ...\n",
      "Performing second-step alignment ...\n",
      "Finished! Successfully aligning 49 German sentences to 89 German sentences\n",
      "\n",
      "Source language: German, Number of sentences: 73\n",
      "Target language: German, Number of sentences: 61\n",
      "Embedding source and target text using LaBSE ...\n"
     ]
    },
    {
     "name": "stderr",
     "output_type": "stream",
     "text": [
      "13it [00:05,  1.95it/s]"
     ]
    },
    {
     "name": "stdout",
     "output_type": "stream",
     "text": [
      "Performing first-step alignment ...\n",
      "Performing second-step alignment ...\n",
      "Finished! Successfully aligning 73 German sentences to 61 German sentences\n",
      "\n",
      "Source language: German, Number of sentences: 188\n",
      "Target language: German, Number of sentences: 77\n",
      "Embedding source and target text using LaBSE ...\n"
     ]
    },
    {
     "name": "stderr",
     "output_type": "stream",
     "text": [
      "14it [00:06,  1.47it/s]"
     ]
    },
    {
     "name": "stdout",
     "output_type": "stream",
     "text": [
      "Performing first-step alignment ...\n",
      "Performing second-step alignment ...\n",
      "Finished! Successfully aligning 188 German sentences to 77 German sentences\n",
      "\n",
      "Source language: German, Number of sentences: 736\n",
      "Target language: German, Number of sentences: 259\n",
      "Embedding source and target text using LaBSE ...\n"
     ]
    },
    {
     "name": "stderr",
     "output_type": "stream",
     "text": [
      "15it [00:11,  1.88s/it]"
     ]
    },
    {
     "name": "stdout",
     "output_type": "stream",
     "text": [
      "Performing first-step alignment ...\n",
      "Performing second-step alignment ...\n",
      "Finished! Successfully aligning 736 German sentences to 259 German sentences\n",
      "\n",
      "Source language: German, Number of sentences: 20\n",
      "Target language: German, Number of sentences: 8\n",
      "Embedding source and target text using LaBSE ...\n"
     ]
    },
    {
     "name": "stderr",
     "output_type": "stream",
     "text": [
      "16it [00:11,  1.37s/it]"
     ]
    },
    {
     "name": "stdout",
     "output_type": "stream",
     "text": [
      "Performing first-step alignment ...\n",
      "Performing second-step alignment ...\n",
      "Finished! Successfully aligning 20 German sentences to 8 German sentences\n",
      "\n",
      "Source language: German, Number of sentences: 17\n",
      "Target language: German, Number of sentences: 12\n",
      "Embedding source and target text using LaBSE ...\n"
     ]
    },
    {
     "name": "stderr",
     "output_type": "stream",
     "text": [
      "17it [00:11,  1.03s/it]"
     ]
    },
    {
     "name": "stdout",
     "output_type": "stream",
     "text": [
      "Performing first-step alignment ...\n",
      "Performing second-step alignment ...\n",
      "Finished! Successfully aligning 17 German sentences to 12 German sentences\n",
      "\n",
      "Source language: German, Number of sentences: 16\n",
      "Target language: German, Number of sentences: 11\n",
      "Embedding source and target text using LaBSE ...\n",
      "Performing first-step alignment ...\n"
     ]
    },
    {
     "name": "stderr",
     "output_type": "stream",
     "text": [
      "18it [00:11,  1.29it/s]"
     ]
    },
    {
     "name": "stdout",
     "output_type": "stream",
     "text": [
      "Performing second-step alignment ...\n",
      "Finished! Successfully aligning 16 German sentences to 11 German sentences\n",
      "\n",
      "Source language: German, Number of sentences: 12\n",
      "Target language: German, Number of sentences: 12\n",
      "Embedding source and target text using LaBSE ...\n",
      "Performing first-step alignment ...\n"
     ]
    },
    {
     "name": "stderr",
     "output_type": "stream",
     "text": [
      "19it [00:11,  1.67it/s]"
     ]
    },
    {
     "name": "stdout",
     "output_type": "stream",
     "text": [
      "Performing second-step alignment ...\n",
      "Finished! Successfully aligning 12 German sentences to 12 German sentences\n",
      "\n",
      "Source language: German, Number of sentences: 23\n",
      "Target language: German, Number of sentences: 18\n",
      "Embedding source and target text using LaBSE ...\n"
     ]
    },
    {
     "name": "stderr",
     "output_type": "stream",
     "text": [
      "20it [00:12,  1.98it/s]"
     ]
    },
    {
     "name": "stdout",
     "output_type": "stream",
     "text": [
      "Performing first-step alignment ...\n",
      "Performing second-step alignment ...\n",
      "Finished! Successfully aligning 23 German sentences to 18 German sentences\n",
      "\n",
      "Source language: German, Number of sentences: 22\n",
      "Target language: German, Number of sentences: 17\n",
      "Embedding source and target text using LaBSE ...\n"
     ]
    },
    {
     "name": "stderr",
     "output_type": "stream",
     "text": [
      "21it [00:12,  2.30it/s]"
     ]
    },
    {
     "name": "stdout",
     "output_type": "stream",
     "text": [
      "Performing first-step alignment ...\n",
      "Performing second-step alignment ...\n",
      "Finished! Successfully aligning 22 German sentences to 17 German sentences\n",
      "\n",
      "Source language: German, Number of sentences: 18\n",
      "Target language: German, Number of sentences: 11\n",
      "Embedding source and target text using LaBSE ...\n",
      "Performing first-step alignment ...\n"
     ]
    },
    {
     "name": "stderr",
     "output_type": "stream",
     "text": [
      "22it [00:12,  2.76it/s]"
     ]
    },
    {
     "name": "stdout",
     "output_type": "stream",
     "text": [
      "Performing second-step alignment ...\n",
      "Finished! Successfully aligning 18 German sentences to 11 German sentences\n",
      "\n",
      "Source language: German, Number of sentences: 23\n",
      "Target language: German, Number of sentences: 18\n",
      "Embedding source and target text using LaBSE ...\n",
      "Performing first-step alignment ...\n"
     ]
    },
    {
     "name": "stderr",
     "output_type": "stream",
     "text": [
      "23it [00:12,  3.05it/s]"
     ]
    },
    {
     "name": "stdout",
     "output_type": "stream",
     "text": [
      "Performing second-step alignment ...\n",
      "Finished! Successfully aligning 23 German sentences to 18 German sentences\n",
      "\n",
      "Source language: German, Number of sentences: 19\n",
      "Target language: German, Number of sentences: 10\n",
      "Embedding source and target text using LaBSE ...\n"
     ]
    },
    {
     "name": "stderr",
     "output_type": "stream",
     "text": [
      "24it [00:13,  3.21it/s]"
     ]
    },
    {
     "name": "stdout",
     "output_type": "stream",
     "text": [
      "Performing first-step alignment ...\n",
      "Performing second-step alignment ...\n",
      "Finished! Successfully aligning 19 German sentences to 10 German sentences\n",
      "\n",
      "Source language: German, Number of sentences: 11\n",
      "Target language: German, Number of sentences: 9\n",
      "Embedding source and target text using LaBSE ...\n",
      "Performing first-step alignment ...\n"
     ]
    },
    {
     "name": "stderr",
     "output_type": "stream",
     "text": [
      "25it [00:13,  3.62it/s]"
     ]
    },
    {
     "name": "stdout",
     "output_type": "stream",
     "text": [
      "Performing second-step alignment ...\n",
      "Finished! Successfully aligning 11 German sentences to 9 German sentences\n",
      "\n",
      "Source language: German, Number of sentences: 24\n",
      "Target language: German, Number of sentences: 17\n",
      "Embedding source and target text using LaBSE ...\n",
      "Performing first-step alignment ...\n"
     ]
    },
    {
     "name": "stderr",
     "output_type": "stream",
     "text": [
      "26it [00:13,  3.87it/s]"
     ]
    },
    {
     "name": "stdout",
     "output_type": "stream",
     "text": [
      "Performing second-step alignment ...\n",
      "Finished! Successfully aligning 24 German sentences to 17 German sentences\n",
      "\n",
      "Source language: German, Number of sentences: 14\n",
      "Target language: German, Number of sentences: 10\n",
      "Embedding source and target text using LaBSE ...\n",
      "Performing first-step alignment ...\n"
     ]
    },
    {
     "name": "stderr",
     "output_type": "stream",
     "text": [
      "28it [00:13,  4.39it/s]"
     ]
    },
    {
     "name": "stdout",
     "output_type": "stream",
     "text": [
      "Performing second-step alignment ...\n",
      "Finished! Successfully aligning 14 German sentences to 10 German sentences\n",
      "\n",
      "Source language: German, Number of sentences: 8\n",
      "Target language: German, Number of sentences: 6\n",
      "Embedding source and target text using LaBSE ...\n",
      "Performing first-step alignment ...\n",
      "Performing second-step alignment ...\n",
      "Finished! Successfully aligning 8 German sentences to 6 German sentences\n",
      "\n",
      "Source language: German, Number of sentences: 18\n",
      "Target language: German, Number of sentences: 12\n",
      "Embedding source and target text using LaBSE ...\n"
     ]
    },
    {
     "name": "stderr",
     "output_type": "stream",
     "text": [
      "29it [00:14,  4.61it/s]"
     ]
    },
    {
     "name": "stdout",
     "output_type": "stream",
     "text": [
      "Performing first-step alignment ...\n",
      "Performing second-step alignment ...\n",
      "Finished! Successfully aligning 18 German sentences to 12 German sentences\n",
      "\n",
      "Source language: German, Number of sentences: 23\n",
      "Target language: German, Number of sentences: 17\n",
      "Embedding source and target text using LaBSE ...\n"
     ]
    },
    {
     "name": "stderr",
     "output_type": "stream",
     "text": [
      "30it [00:14,  4.39it/s]"
     ]
    },
    {
     "name": "stdout",
     "output_type": "stream",
     "text": [
      "Performing first-step alignment ...\n",
      "Performing second-step alignment ...\n",
      "Finished! Successfully aligning 23 German sentences to 17 German sentences\n",
      "\n",
      "Source language: German, Number of sentences: 23\n",
      "Target language: German, Number of sentences: 14\n",
      "Embedding source and target text using LaBSE ...\n"
     ]
    },
    {
     "name": "stderr",
     "output_type": "stream",
     "text": [
      "31it [00:14,  4.39it/s]"
     ]
    },
    {
     "name": "stdout",
     "output_type": "stream",
     "text": [
      "Performing first-step alignment ...\n",
      "Performing second-step alignment ...\n",
      "Finished! Successfully aligning 23 German sentences to 14 German sentences\n",
      "\n",
      "Source language: German, Number of sentences: 27\n",
      "Target language: German, Number of sentences: 16\n",
      "Embedding source and target text using LaBSE ...\n"
     ]
    },
    {
     "name": "stderr",
     "output_type": "stream",
     "text": [
      "32it [00:14,  4.33it/s]"
     ]
    },
    {
     "name": "stdout",
     "output_type": "stream",
     "text": [
      "Performing first-step alignment ...\n",
      "Performing second-step alignment ...\n",
      "Finished! Successfully aligning 27 German sentences to 16 German sentences\n",
      "\n",
      "Source language: German, Number of sentences: 17\n",
      "Target language: German, Number of sentences: 11\n",
      "Embedding source and target text using LaBSE ...\n"
     ]
    },
    {
     "name": "stderr",
     "output_type": "stream",
     "text": [
      "33it [00:15,  4.14it/s]"
     ]
    },
    {
     "name": "stdout",
     "output_type": "stream",
     "text": [
      "Performing first-step alignment ...\n",
      "Performing second-step alignment ...\n",
      "Finished! Successfully aligning 17 German sentences to 11 German sentences\n",
      "\n",
      "Source language: German, Number of sentences: 26\n",
      "Target language: German, Number of sentences: 14\n",
      "Embedding source and target text using LaBSE ...\n"
     ]
    },
    {
     "name": "stderr",
     "output_type": "stream",
     "text": [
      "34it [00:15,  4.08it/s]"
     ]
    },
    {
     "name": "stdout",
     "output_type": "stream",
     "text": [
      "Performing first-step alignment ...\n",
      "Performing second-step alignment ...\n",
      "Finished! Successfully aligning 26 German sentences to 14 German sentences\n",
      "\n",
      "Source language: German, Number of sentences: 20\n",
      "Target language: German, Number of sentences: 18\n",
      "Embedding source and target text using LaBSE ...\n"
     ]
    },
    {
     "name": "stderr",
     "output_type": "stream",
     "text": [
      "35it [00:15,  3.71it/s]"
     ]
    },
    {
     "name": "stdout",
     "output_type": "stream",
     "text": [
      "Performing first-step alignment ...\n",
      "Performing second-step alignment ...\n",
      "Finished! Successfully aligning 20 German sentences to 18 German sentences\n",
      "\n",
      "Source language: German, Number of sentences: 26\n",
      "Target language: German, Number of sentences: 22\n",
      "Embedding source and target text using LaBSE ...\n"
     ]
    },
    {
     "name": "stderr",
     "output_type": "stream",
     "text": [
      "36it [00:15,  3.73it/s]"
     ]
    },
    {
     "name": "stdout",
     "output_type": "stream",
     "text": [
      "Performing first-step alignment ...\n",
      "Performing second-step alignment ...\n",
      "Finished! Successfully aligning 26 German sentences to 22 German sentences\n",
      "\n",
      "Source language: German, Number of sentences: 23\n",
      "Target language: German, Number of sentences: 16\n",
      "Embedding source and target text using LaBSE ...\n"
     ]
    },
    {
     "name": "stderr",
     "output_type": "stream",
     "text": [
      "37it [00:16,  3.88it/s]"
     ]
    },
    {
     "name": "stdout",
     "output_type": "stream",
     "text": [
      "Performing first-step alignment ...\n",
      "Performing second-step alignment ...\n",
      "Finished! Successfully aligning 23 German sentences to 16 German sentences\n",
      "\n",
      "Source language: German, Number of sentences: 18\n",
      "Target language: German, Number of sentences: 13\n",
      "Embedding source and target text using LaBSE ...\n"
     ]
    },
    {
     "name": "stderr",
     "output_type": "stream",
     "text": [
      "38it [00:16,  3.95it/s]"
     ]
    },
    {
     "name": "stdout",
     "output_type": "stream",
     "text": [
      "Performing first-step alignment ...\n",
      "Performing second-step alignment ...\n",
      "Finished! Successfully aligning 18 German sentences to 13 German sentences\n",
      "\n",
      "Source language: German, Number of sentences: 17\n",
      "Target language: German, Number of sentences: 14\n",
      "Embedding source and target text using LaBSE ...\n"
     ]
    },
    {
     "name": "stderr",
     "output_type": "stream",
     "text": [
      "39it [00:16,  4.02it/s]"
     ]
    },
    {
     "name": "stdout",
     "output_type": "stream",
     "text": [
      "Performing first-step alignment ...\n",
      "Performing second-step alignment ...\n",
      "Finished! Successfully aligning 17 German sentences to 14 German sentences\n",
      "\n",
      "Source language: German, Number of sentences: 31\n",
      "Target language: German, Number of sentences: 21\n",
      "Embedding source and target text using LaBSE ...\n"
     ]
    },
    {
     "name": "stderr",
     "output_type": "stream",
     "text": [
      "40it [00:16,  4.01it/s]"
     ]
    },
    {
     "name": "stdout",
     "output_type": "stream",
     "text": [
      "Performing first-step alignment ...\n",
      "Performing second-step alignment ...\n",
      "Finished! Successfully aligning 31 German sentences to 21 German sentences\n",
      "\n",
      "Source language: German, Number of sentences: 23\n",
      "Target language: German, Number of sentences: 18\n",
      "Embedding source and target text using LaBSE ...\n"
     ]
    },
    {
     "name": "stderr",
     "output_type": "stream",
     "text": [
      "41it [00:17,  3.93it/s]"
     ]
    },
    {
     "name": "stdout",
     "output_type": "stream",
     "text": [
      "Performing first-step alignment ...\n",
      "Performing second-step alignment ...\n",
      "Finished! Successfully aligning 23 German sentences to 18 German sentences\n",
      "\n",
      "Source language: German, Number of sentences: 22\n",
      "Target language: German, Number of sentences: 21\n",
      "Embedding source and target text using LaBSE ...\n"
     ]
    },
    {
     "name": "stderr",
     "output_type": "stream",
     "text": [
      "42it [00:17,  3.92it/s]"
     ]
    },
    {
     "name": "stdout",
     "output_type": "stream",
     "text": [
      "Performing first-step alignment ...\n",
      "Performing second-step alignment ...\n",
      "Finished! Successfully aligning 22 German sentences to 21 German sentences\n",
      "\n",
      "Source language: German, Number of sentences: 20\n",
      "Target language: German, Number of sentences: 21\n",
      "Embedding source and target text using LaBSE ...\n"
     ]
    },
    {
     "name": "stderr",
     "output_type": "stream",
     "text": [
      "43it [00:17,  3.87it/s]"
     ]
    },
    {
     "name": "stdout",
     "output_type": "stream",
     "text": [
      "Performing first-step alignment ...\n",
      "Performing second-step alignment ...\n",
      "Finished! Successfully aligning 20 German sentences to 21 German sentences\n",
      "\n",
      "Source language: German, Number of sentences: 14\n",
      "Target language: German, Number of sentences: 12\n",
      "Embedding source and target text using LaBSE ...\n"
     ]
    },
    {
     "name": "stderr",
     "output_type": "stream",
     "text": [
      "44it [00:17,  4.07it/s]"
     ]
    },
    {
     "name": "stdout",
     "output_type": "stream",
     "text": [
      "Performing first-step alignment ...\n",
      "Performing second-step alignment ...\n",
      "Finished! Successfully aligning 14 German sentences to 12 German sentences\n",
      "\n",
      "Source language: German, Number of sentences: 26\n",
      "Target language: German, Number of sentences: 21\n",
      "Embedding source and target text using LaBSE ...\n"
     ]
    },
    {
     "name": "stderr",
     "output_type": "stream",
     "text": [
      "45it [00:18,  4.00it/s]"
     ]
    },
    {
     "name": "stdout",
     "output_type": "stream",
     "text": [
      "Performing first-step alignment ...\n",
      "Performing second-step alignment ...\n",
      "Finished! Successfully aligning 26 German sentences to 21 German sentences\n",
      "\n",
      "Source language: German, Number of sentences: 16\n",
      "Target language: German, Number of sentences: 18\n",
      "Embedding source and target text using LaBSE ...\n"
     ]
    },
    {
     "name": "stderr",
     "output_type": "stream",
     "text": [
      "46it [00:18,  4.02it/s]"
     ]
    },
    {
     "name": "stdout",
     "output_type": "stream",
     "text": [
      "Performing first-step alignment ...\n",
      "Performing second-step alignment ...\n",
      "Finished! Successfully aligning 16 German sentences to 18 German sentences\n",
      "\n",
      "Source language: German, Number of sentences: 23\n",
      "Target language: German, Number of sentences: 18\n",
      "Embedding source and target text using LaBSE ...\n"
     ]
    },
    {
     "name": "stderr",
     "output_type": "stream",
     "text": [
      "47it [00:18,  3.96it/s]"
     ]
    },
    {
     "name": "stdout",
     "output_type": "stream",
     "text": [
      "Performing first-step alignment ...\n",
      "Performing second-step alignment ...\n",
      "Finished! Successfully aligning 23 German sentences to 18 German sentences\n",
      "\n",
      "Source language: German, Number of sentences: 25\n",
      "Target language: German, Number of sentences: 21\n",
      "Embedding source and target text using LaBSE ...\n"
     ]
    },
    {
     "name": "stderr",
     "output_type": "stream",
     "text": [
      "48it [00:19,  3.77it/s]"
     ]
    },
    {
     "name": "stdout",
     "output_type": "stream",
     "text": [
      "Performing first-step alignment ...\n",
      "Performing second-step alignment ...\n",
      "Finished! Successfully aligning 25 German sentences to 21 German sentences\n",
      "\n",
      "Source language: German, Number of sentences: 19\n",
      "Target language: German, Number of sentences: 15\n",
      "Embedding source and target text using LaBSE ...\n"
     ]
    },
    {
     "name": "stderr",
     "output_type": "stream",
     "text": [
      "49it [00:19,  3.92it/s]"
     ]
    },
    {
     "name": "stdout",
     "output_type": "stream",
     "text": [
      "Performing first-step alignment ...\n",
      "Performing second-step alignment ...\n",
      "Finished! Successfully aligning 19 German sentences to 15 German sentences\n",
      "\n",
      "Source language: German, Number of sentences: 19\n",
      "Target language: German, Number of sentences: 14\n",
      "Embedding source and target text using LaBSE ...\n"
     ]
    },
    {
     "name": "stderr",
     "output_type": "stream",
     "text": [
      "50it [00:19,  4.01it/s]"
     ]
    },
    {
     "name": "stdout",
     "output_type": "stream",
     "text": [
      "Performing first-step alignment ...\n",
      "Performing second-step alignment ...\n",
      "Finished! Successfully aligning 19 German sentences to 14 German sentences\n",
      "\n",
      "Source language: German, Number of sentences: 18\n",
      "Target language: German, Number of sentences: 13\n",
      "Embedding source and target text using LaBSE ...\n"
     ]
    },
    {
     "name": "stderr",
     "output_type": "stream",
     "text": [
      "51it [00:19,  4.04it/s]"
     ]
    },
    {
     "name": "stdout",
     "output_type": "stream",
     "text": [
      "Performing first-step alignment ...\n",
      "Performing second-step alignment ...\n",
      "Finished! Successfully aligning 18 German sentences to 13 German sentences\n",
      "\n",
      "Source language: German, Number of sentences: 19\n",
      "Target language: German, Number of sentences: 16\n",
      "Embedding source and target text using LaBSE ...\n"
     ]
    },
    {
     "name": "stderr",
     "output_type": "stream",
     "text": [
      "52it [00:19,  4.01it/s]"
     ]
    },
    {
     "name": "stdout",
     "output_type": "stream",
     "text": [
      "Performing first-step alignment ...\n",
      "Performing second-step alignment ...\n",
      "Finished! Successfully aligning 19 German sentences to 16 German sentences\n",
      "\n",
      "Source language: German, Number of sentences: 24\n",
      "Target language: German, Number of sentences: 20\n",
      "Embedding source and target text using LaBSE ...\n"
     ]
    },
    {
     "name": "stderr",
     "output_type": "stream",
     "text": [
      "53it [00:20,  3.82it/s]"
     ]
    },
    {
     "name": "stdout",
     "output_type": "stream",
     "text": [
      "Performing first-step alignment ...\n",
      "Performing second-step alignment ...\n",
      "Finished! Successfully aligning 24 German sentences to 20 German sentences\n",
      "\n",
      "Source language: German, Number of sentences: 14\n",
      "Target language: German, Number of sentences: 12\n",
      "Embedding source and target text using LaBSE ...\n"
     ]
    },
    {
     "name": "stderr",
     "output_type": "stream",
     "text": [
      "54it [00:20,  4.06it/s]"
     ]
    },
    {
     "name": "stdout",
     "output_type": "stream",
     "text": [
      "Performing first-step alignment ...\n",
      "Performing second-step alignment ...\n",
      "Finished! Successfully aligning 14 German sentences to 12 German sentences\n",
      "\n",
      "Source language: German, Number of sentences: 15\n",
      "Target language: German, Number of sentences: 10\n",
      "Embedding source and target text using LaBSE ...\n"
     ]
    },
    {
     "name": "stderr",
     "output_type": "stream",
     "text": [
      "55it [00:20,  4.18it/s]"
     ]
    },
    {
     "name": "stdout",
     "output_type": "stream",
     "text": [
      "Performing first-step alignment ...\n",
      "Performing second-step alignment ...\n",
      "Finished! Successfully aligning 15 German sentences to 10 German sentences\n",
      "\n",
      "Source language: German, Number of sentences: 22\n",
      "Target language: German, Number of sentences: 16\n",
      "Embedding source and target text using LaBSE ...\n"
     ]
    },
    {
     "name": "stderr",
     "output_type": "stream",
     "text": [
      "56it [00:20,  4.15it/s]"
     ]
    },
    {
     "name": "stdout",
     "output_type": "stream",
     "text": [
      "Performing first-step alignment ...\n",
      "Performing second-step alignment ...\n",
      "Finished! Successfully aligning 22 German sentences to 16 German sentences\n",
      "\n",
      "Source language: German, Number of sentences: 20\n",
      "Target language: German, Number of sentences: 16\n",
      "Embedding source and target text using LaBSE ...\n"
     ]
    },
    {
     "name": "stderr",
     "output_type": "stream",
     "text": [
      "57it [00:21,  4.05it/s]"
     ]
    },
    {
     "name": "stdout",
     "output_type": "stream",
     "text": [
      "Performing first-step alignment ...\n",
      "Performing second-step alignment ...\n",
      "Finished! Successfully aligning 20 German sentences to 16 German sentences\n",
      "\n",
      "Source language: German, Number of sentences: 15\n",
      "Target language: German, Number of sentences: 9\n",
      "Embedding source and target text using LaBSE ...\n"
     ]
    },
    {
     "name": "stderr",
     "output_type": "stream",
     "text": [
      "58it [00:21,  4.16it/s]"
     ]
    },
    {
     "name": "stdout",
     "output_type": "stream",
     "text": [
      "Performing first-step alignment ...\n",
      "Performing second-step alignment ...\n",
      "Finished! Successfully aligning 15 German sentences to 9 German sentences\n",
      "\n",
      "Source language: German, Number of sentences: 20\n",
      "Target language: German, Number of sentences: 14\n",
      "Embedding source and target text using LaBSE ...\n"
     ]
    },
    {
     "name": "stderr",
     "output_type": "stream",
     "text": [
      "59it [00:21,  4.09it/s]"
     ]
    },
    {
     "name": "stdout",
     "output_type": "stream",
     "text": [
      "Performing first-step alignment ...\n",
      "Performing second-step alignment ...\n",
      "Finished! Successfully aligning 20 German sentences to 14 German sentences\n",
      "\n",
      "Source language: German, Number of sentences: 16\n",
      "Target language: German, Number of sentences: 11\n",
      "Embedding source and target text using LaBSE ...\n"
     ]
    },
    {
     "name": "stderr",
     "output_type": "stream",
     "text": [
      "60it [00:21,  4.08it/s]"
     ]
    },
    {
     "name": "stdout",
     "output_type": "stream",
     "text": [
      "Performing first-step alignment ...\n",
      "Performing second-step alignment ...\n",
      "Finished! Successfully aligning 16 German sentences to 11 German sentences\n",
      "\n",
      "Source language: German, Number of sentences: 18\n",
      "Target language: German, Number of sentences: 14\n",
      "Embedding source and target text using LaBSE ...\n"
     ]
    },
    {
     "name": "stderr",
     "output_type": "stream",
     "text": [
      "61it [00:22,  4.17it/s]"
     ]
    },
    {
     "name": "stdout",
     "output_type": "stream",
     "text": [
      "Performing first-step alignment ...\n",
      "Performing second-step alignment ...\n",
      "Finished! Successfully aligning 18 German sentences to 14 German sentences\n",
      "\n",
      "Source language: German, Number of sentences: 19\n",
      "Target language: German, Number of sentences: 16\n",
      "Embedding source and target text using LaBSE ...\n"
     ]
    },
    {
     "name": "stderr",
     "output_type": "stream",
     "text": [
      "62it [00:22,  4.01it/s]"
     ]
    },
    {
     "name": "stdout",
     "output_type": "stream",
     "text": [
      "Performing first-step alignment ...\n",
      "Performing second-step alignment ...\n",
      "Finished! Successfully aligning 19 German sentences to 16 German sentences\n",
      "\n",
      "Source language: German, Number of sentences: 23\n",
      "Target language: German, Number of sentences: 17\n",
      "Embedding source and target text using LaBSE ...\n"
     ]
    },
    {
     "name": "stderr",
     "output_type": "stream",
     "text": [
      "63it [00:22,  3.93it/s]"
     ]
    },
    {
     "name": "stdout",
     "output_type": "stream",
     "text": [
      "Performing first-step alignment ...\n",
      "Performing second-step alignment ...\n",
      "Finished! Successfully aligning 23 German sentences to 17 German sentences\n",
      "\n",
      "Source language: German, Number of sentences: 17\n",
      "Target language: German, Number of sentences: 13\n",
      "Embedding source and target text using LaBSE ...\n"
     ]
    },
    {
     "name": "stderr",
     "output_type": "stream",
     "text": [
      "64it [00:22,  4.12it/s]"
     ]
    },
    {
     "name": "stdout",
     "output_type": "stream",
     "text": [
      "Performing first-step alignment ...\n",
      "Performing second-step alignment ...\n",
      "Finished! Successfully aligning 17 German sentences to 13 German sentences\n",
      "\n",
      "Source language: German, Number of sentences: 15\n",
      "Target language: German, Number of sentences: 14\n",
      "Embedding source and target text using LaBSE ...\n"
     ]
    },
    {
     "name": "stderr",
     "output_type": "stream",
     "text": [
      "65it [00:23,  4.20it/s]"
     ]
    },
    {
     "name": "stdout",
     "output_type": "stream",
     "text": [
      "Performing first-step alignment ...\n",
      "Performing second-step alignment ...\n",
      "Finished! Successfully aligning 15 German sentences to 14 German sentences\n",
      "\n",
      "Source language: German, Number of sentences: 20\n",
      "Target language: German, Number of sentences: 16\n",
      "Embedding source and target text using LaBSE ...\n"
     ]
    },
    {
     "name": "stderr",
     "output_type": "stream",
     "text": [
      "66it [00:23,  4.07it/s]"
     ]
    },
    {
     "name": "stdout",
     "output_type": "stream",
     "text": [
      "Performing first-step alignment ...\n",
      "Performing second-step alignment ...\n",
      "Finished! Successfully aligning 20 German sentences to 16 German sentences\n",
      "\n",
      "Source language: German, Number of sentences: 24\n",
      "Target language: German, Number of sentences: 19\n",
      "Embedding source and target text using LaBSE ...\n"
     ]
    },
    {
     "name": "stderr",
     "output_type": "stream",
     "text": [
      "67it [00:23,  3.94it/s]"
     ]
    },
    {
     "name": "stdout",
     "output_type": "stream",
     "text": [
      "Performing first-step alignment ...\n",
      "Performing second-step alignment ...\n",
      "Finished! Successfully aligning 24 German sentences to 19 German sentences\n",
      "\n",
      "Source language: German, Number of sentences: 14\n",
      "Target language: German, Number of sentences: 10\n",
      "Embedding source and target text using LaBSE ...\n"
     ]
    },
    {
     "name": "stderr",
     "output_type": "stream",
     "text": [
      "68it [00:23,  4.10it/s]"
     ]
    },
    {
     "name": "stdout",
     "output_type": "stream",
     "text": [
      "Performing first-step alignment ...\n",
      "Performing second-step alignment ...\n",
      "Finished! Successfully aligning 14 German sentences to 10 German sentences\n",
      "\n",
      "Source language: German, Number of sentences: 14\n",
      "Target language: German, Number of sentences: 17\n",
      "Embedding source and target text using LaBSE ...\n"
     ]
    },
    {
     "name": "stderr",
     "output_type": "stream",
     "text": [
      "69it [00:24,  3.82it/s]"
     ]
    },
    {
     "name": "stdout",
     "output_type": "stream",
     "text": [
      "Performing first-step alignment ...\n",
      "Performing second-step alignment ...\n",
      "Finished! Successfully aligning 14 German sentences to 17 German sentences\n",
      "\n",
      "Source language: German, Number of sentences: 25\n",
      "Target language: German, Number of sentences: 21\n",
      "Embedding source and target text using LaBSE ...\n"
     ]
    },
    {
     "name": "stderr",
     "output_type": "stream",
     "text": [
      "70it [00:24,  3.70it/s]"
     ]
    },
    {
     "name": "stdout",
     "output_type": "stream",
     "text": [
      "Performing first-step alignment ...\n",
      "Performing second-step alignment ...\n",
      "Finished! Successfully aligning 25 German sentences to 21 German sentences\n",
      "\n",
      "Source language: German, Number of sentences: 23\n",
      "Target language: German, Number of sentences: 19\n",
      "Embedding source and target text using LaBSE ...\n"
     ]
    },
    {
     "name": "stderr",
     "output_type": "stream",
     "text": [
      "71it [00:24,  3.59it/s]"
     ]
    },
    {
     "name": "stdout",
     "output_type": "stream",
     "text": [
      "Performing first-step alignment ...\n",
      "Performing second-step alignment ...\n",
      "Finished! Successfully aligning 23 German sentences to 19 German sentences\n",
      "\n",
      "Source language: German, Number of sentences: 12\n",
      "Target language: German, Number of sentences: 14\n",
      "Embedding source and target text using LaBSE ...\n"
     ]
    },
    {
     "name": "stderr",
     "output_type": "stream",
     "text": [
      "72it [00:25,  3.82it/s]"
     ]
    },
    {
     "name": "stdout",
     "output_type": "stream",
     "text": [
      "Performing first-step alignment ...\n",
      "Performing second-step alignment ...\n",
      "Finished! Successfully aligning 12 German sentences to 14 German sentences\n",
      "\n",
      "Source language: German, Number of sentences: 19\n",
      "Target language: German, Number of sentences: 15\n",
      "Embedding source and target text using LaBSE ...\n"
     ]
    },
    {
     "name": "stderr",
     "output_type": "stream",
     "text": [
      "73it [00:25,  3.90it/s]"
     ]
    },
    {
     "name": "stdout",
     "output_type": "stream",
     "text": [
      "Performing first-step alignment ...\n",
      "Performing second-step alignment ...\n",
      "Finished! Successfully aligning 19 German sentences to 15 German sentences\n",
      "\n",
      "Source language: German, Number of sentences: 14\n",
      "Target language: German, Number of sentences: 12\n",
      "Embedding source and target text using LaBSE ...\n"
     ]
    },
    {
     "name": "stderr",
     "output_type": "stream",
     "text": [
      "74it [00:25,  4.08it/s]"
     ]
    },
    {
     "name": "stdout",
     "output_type": "stream",
     "text": [
      "Performing first-step alignment ...\n",
      "Performing second-step alignment ...\n",
      "Finished! Successfully aligning 14 German sentences to 12 German sentences\n",
      "\n",
      "Source language: German, Number of sentences: 27\n",
      "Target language: German, Number of sentences: 20\n",
      "Embedding source and target text using LaBSE ...\n"
     ]
    },
    {
     "name": "stderr",
     "output_type": "stream",
     "text": [
      "75it [00:25,  3.90it/s]"
     ]
    },
    {
     "name": "stdout",
     "output_type": "stream",
     "text": [
      "Performing first-step alignment ...\n",
      "Performing second-step alignment ...\n",
      "Finished! Successfully aligning 27 German sentences to 20 German sentences\n",
      "\n",
      "Source language: German, Number of sentences: 22\n",
      "Target language: German, Number of sentences: 16\n",
      "Embedding source and target text using LaBSE ...\n"
     ]
    },
    {
     "name": "stderr",
     "output_type": "stream",
     "text": [
      "76it [00:25,  4.03it/s]"
     ]
    },
    {
     "name": "stdout",
     "output_type": "stream",
     "text": [
      "Performing first-step alignment ...\n",
      "Performing second-step alignment ...\n",
      "Finished! Successfully aligning 22 German sentences to 16 German sentences\n",
      "\n",
      "Source language: German, Number of sentences: 27\n",
      "Target language: German, Number of sentences: 22\n",
      "Embedding source and target text using LaBSE ...\n"
     ]
    },
    {
     "name": "stderr",
     "output_type": "stream",
     "text": [
      "77it [00:26,  3.89it/s]"
     ]
    },
    {
     "name": "stdout",
     "output_type": "stream",
     "text": [
      "Performing first-step alignment ...\n",
      "Performing second-step alignment ...\n",
      "Finished! Successfully aligning 27 German sentences to 22 German sentences\n",
      "\n",
      "Source language: German, Number of sentences: 15\n",
      "Target language: German, Number of sentences: 14\n",
      "Embedding source and target text using LaBSE ...\n"
     ]
    },
    {
     "name": "stderr",
     "output_type": "stream",
     "text": [
      "78it [00:26,  4.03it/s]"
     ]
    },
    {
     "name": "stdout",
     "output_type": "stream",
     "text": [
      "Performing first-step alignment ...\n",
      "Performing second-step alignment ...\n",
      "Finished! Successfully aligning 15 German sentences to 14 German sentences\n",
      "\n",
      "Source language: German, Number of sentences: 24\n",
      "Target language: German, Number of sentences: 16\n",
      "Embedding source and target text using LaBSE ...\n"
     ]
    },
    {
     "name": "stderr",
     "output_type": "stream",
     "text": [
      "79it [00:26,  4.01it/s]"
     ]
    },
    {
     "name": "stdout",
     "output_type": "stream",
     "text": [
      "Performing first-step alignment ...\n",
      "Performing second-step alignment ...\n",
      "Finished! Successfully aligning 24 German sentences to 16 German sentences\n",
      "\n",
      "Source language: German, Number of sentences: 26\n",
      "Target language: German, Number of sentences: 21\n",
      "Embedding source and target text using LaBSE ...\n"
     ]
    },
    {
     "name": "stderr",
     "output_type": "stream",
     "text": [
      "80it [00:27,  3.99it/s]"
     ]
    },
    {
     "name": "stdout",
     "output_type": "stream",
     "text": [
      "Performing first-step alignment ...\n",
      "Performing second-step alignment ...\n",
      "Finished! Successfully aligning 26 German sentences to 21 German sentences\n",
      "\n",
      "Source language: German, Number of sentences: 15\n",
      "Target language: German, Number of sentences: 12\n",
      "Embedding source and target text using LaBSE ...\n"
     ]
    },
    {
     "name": "stderr",
     "output_type": "stream",
     "text": [
      "81it [00:27,  4.01it/s]"
     ]
    },
    {
     "name": "stdout",
     "output_type": "stream",
     "text": [
      "Performing first-step alignment ...\n",
      "Performing second-step alignment ...\n",
      "Finished! Successfully aligning 15 German sentences to 12 German sentences\n",
      "\n",
      "Source language: German, Number of sentences: 18\n",
      "Target language: German, Number of sentences: 15\n",
      "Embedding source and target text using LaBSE ...\n"
     ]
    },
    {
     "name": "stderr",
     "output_type": "stream",
     "text": [
      "82it [00:27,  4.01it/s]"
     ]
    },
    {
     "name": "stdout",
     "output_type": "stream",
     "text": [
      "Performing first-step alignment ...\n",
      "Performing second-step alignment ...\n",
      "Finished! Successfully aligning 18 German sentences to 15 German sentences\n",
      "\n",
      "Source language: German, Number of sentences: 26\n",
      "Target language: German, Number of sentences: 22\n",
      "Embedding source and target text using LaBSE ...\n"
     ]
    },
    {
     "name": "stderr",
     "output_type": "stream",
     "text": [
      "83it [00:27,  3.83it/s]"
     ]
    },
    {
     "name": "stdout",
     "output_type": "stream",
     "text": [
      "Performing first-step alignment ...\n",
      "Performing second-step alignment ...\n",
      "Finished! Successfully aligning 26 German sentences to 22 German sentences\n",
      "\n",
      "Source language: German, Number of sentences: 25\n",
      "Target language: German, Number of sentences: 16\n",
      "Embedding source and target text using LaBSE ...\n"
     ]
    },
    {
     "name": "stderr",
     "output_type": "stream",
     "text": [
      "84it [00:28,  3.89it/s]"
     ]
    },
    {
     "name": "stdout",
     "output_type": "stream",
     "text": [
      "Performing first-step alignment ...\n",
      "Performing second-step alignment ...\n",
      "Finished! Successfully aligning 25 German sentences to 16 German sentences\n",
      "\n",
      "Source language: German, Number of sentences: 19\n",
      "Target language: German, Number of sentences: 14\n",
      "Embedding source and target text using LaBSE ...\n"
     ]
    },
    {
     "name": "stderr",
     "output_type": "stream",
     "text": [
      "85it [00:28,  3.94it/s]"
     ]
    },
    {
     "name": "stdout",
     "output_type": "stream",
     "text": [
      "Performing first-step alignment ...\n",
      "Performing second-step alignment ...\n",
      "Finished! Successfully aligning 19 German sentences to 14 German sentences\n",
      "\n",
      "Source language: German, Number of sentences: 24\n",
      "Target language: German, Number of sentences: 19\n",
      "Embedding source and target text using LaBSE ...\n"
     ]
    },
    {
     "name": "stderr",
     "output_type": "stream",
     "text": [
      "86it [00:28,  3.83it/s]"
     ]
    },
    {
     "name": "stdout",
     "output_type": "stream",
     "text": [
      "Performing first-step alignment ...\n",
      "Performing second-step alignment ...\n",
      "Finished! Successfully aligning 24 German sentences to 19 German sentences\n",
      "\n",
      "Source language: German, Number of sentences: 21\n",
      "Target language: German, Number of sentences: 14\n",
      "Embedding source and target text using LaBSE ...\n"
     ]
    },
    {
     "name": "stderr",
     "output_type": "stream",
     "text": [
      "87it [00:28,  3.76it/s]"
     ]
    },
    {
     "name": "stdout",
     "output_type": "stream",
     "text": [
      "Performing first-step alignment ...\n",
      "Performing second-step alignment ...\n",
      "Finished! Successfully aligning 21 German sentences to 14 German sentences\n",
      "\n",
      "Source language: German, Number of sentences: 22\n",
      "Target language: German, Number of sentences: 20\n",
      "Embedding source and target text using LaBSE ...\n"
     ]
    },
    {
     "name": "stderr",
     "output_type": "stream",
     "text": [
      "88it [00:29,  3.92it/s]"
     ]
    },
    {
     "name": "stdout",
     "output_type": "stream",
     "text": [
      "Performing first-step alignment ...\n",
      "Performing second-step alignment ...\n",
      "Finished! Successfully aligning 22 German sentences to 20 German sentences\n",
      "\n",
      "Source language: German, Number of sentences: 13\n",
      "Target language: German, Number of sentences: 11\n",
      "Embedding source and target text using LaBSE ...\n"
     ]
    },
    {
     "name": "stderr",
     "output_type": "stream",
     "text": [
      "89it [00:29,  4.13it/s]"
     ]
    },
    {
     "name": "stdout",
     "output_type": "stream",
     "text": [
      "Performing first-step alignment ...\n",
      "Performing second-step alignment ...\n",
      "Finished! Successfully aligning 13 German sentences to 11 German sentences\n",
      "\n",
      "Source language: German, Number of sentences: 17\n",
      "Target language: German, Number of sentences: 15\n",
      "Embedding source and target text using LaBSE ...\n"
     ]
    },
    {
     "name": "stderr",
     "output_type": "stream",
     "text": [
      "90it [00:29,  4.28it/s]"
     ]
    },
    {
     "name": "stdout",
     "output_type": "stream",
     "text": [
      "Performing first-step alignment ...\n",
      "Performing second-step alignment ...\n",
      "Finished! Successfully aligning 17 German sentences to 15 German sentences\n",
      "\n",
      "Source language: German, Number of sentences: 24\n",
      "Target language: German, Number of sentences: 17\n",
      "Embedding source and target text using LaBSE ...\n"
     ]
    },
    {
     "name": "stderr",
     "output_type": "stream",
     "text": [
      "91it [00:29,  4.19it/s]"
     ]
    },
    {
     "name": "stdout",
     "output_type": "stream",
     "text": [
      "Performing first-step alignment ...\n",
      "Performing second-step alignment ...\n",
      "Finished! Successfully aligning 24 German sentences to 17 German sentences\n",
      "\n",
      "Source language: German, Number of sentences: 14\n",
      "Target language: German, Number of sentences: 13\n",
      "Embedding source and target text using LaBSE ...\n"
     ]
    },
    {
     "name": "stderr",
     "output_type": "stream",
     "text": [
      "92it [00:29,  4.14it/s]"
     ]
    },
    {
     "name": "stdout",
     "output_type": "stream",
     "text": [
      "Performing first-step alignment ...\n",
      "Performing second-step alignment ...\n",
      "Finished! Successfully aligning 14 German sentences to 13 German sentences\n",
      "\n",
      "Source language: German, Number of sentences: 30\n",
      "Target language: German, Number of sentences: 20\n",
      "Embedding source and target text using LaBSE ...\n"
     ]
    },
    {
     "name": "stderr",
     "output_type": "stream",
     "text": [
      "93it [00:30,  4.00it/s]"
     ]
    },
    {
     "name": "stdout",
     "output_type": "stream",
     "text": [
      "Performing first-step alignment ...\n",
      "Performing second-step alignment ...\n",
      "Finished! Successfully aligning 30 German sentences to 20 German sentences\n",
      "\n",
      "Source language: German, Number of sentences: 29\n",
      "Target language: German, Number of sentences: 19\n",
      "Embedding source and target text using LaBSE ...\n"
     ]
    },
    {
     "name": "stderr",
     "output_type": "stream",
     "text": [
      "94it [00:30,  3.73it/s]"
     ]
    },
    {
     "name": "stdout",
     "output_type": "stream",
     "text": [
      "Performing first-step alignment ...\n",
      "Performing second-step alignment ...\n",
      "Finished! Successfully aligning 29 German sentences to 19 German sentences\n",
      "\n",
      "Source language: German, Number of sentences: 19\n",
      "Target language: German, Number of sentences: 19\n",
      "Embedding source and target text using LaBSE ...\n"
     ]
    },
    {
     "name": "stderr",
     "output_type": "stream",
     "text": [
      "95it [00:30,  3.69it/s]"
     ]
    },
    {
     "name": "stdout",
     "output_type": "stream",
     "text": [
      "Performing first-step alignment ...\n",
      "Performing second-step alignment ...\n",
      "Finished! Successfully aligning 19 German sentences to 19 German sentences\n",
      "\n",
      "Source language: German, Number of sentences: 20\n",
      "Target language: German, Number of sentences: 19\n",
      "Embedding source and target text using LaBSE ...\n"
     ]
    },
    {
     "name": "stderr",
     "output_type": "stream",
     "text": [
      "96it [00:31,  3.83it/s]"
     ]
    },
    {
     "name": "stdout",
     "output_type": "stream",
     "text": [
      "Performing first-step alignment ...\n",
      "Performing second-step alignment ...\n",
      "Finished! Successfully aligning 20 German sentences to 19 German sentences\n",
      "\n",
      "Source language: German, Number of sentences: 22\n",
      "Target language: German, Number of sentences: 21\n",
      "Embedding source and target text using LaBSE ...\n"
     ]
    },
    {
     "name": "stderr",
     "output_type": "stream",
     "text": [
      "97it [00:31,  3.81it/s]"
     ]
    },
    {
     "name": "stdout",
     "output_type": "stream",
     "text": [
      "Performing first-step alignment ...\n",
      "Performing second-step alignment ...\n",
      "Finished! Successfully aligning 22 German sentences to 21 German sentences\n",
      "\n",
      "Source language: German, Number of sentences: 22\n",
      "Target language: German, Number of sentences: 18\n",
      "Embedding source and target text using LaBSE ...\n"
     ]
    },
    {
     "name": "stderr",
     "output_type": "stream",
     "text": [
      "98it [00:31,  3.72it/s]"
     ]
    },
    {
     "name": "stdout",
     "output_type": "stream",
     "text": [
      "Performing first-step alignment ...\n",
      "Performing second-step alignment ...\n",
      "Finished! Successfully aligning 22 German sentences to 18 German sentences\n",
      "\n",
      "Source language: German, Number of sentences: 22\n",
      "Target language: German, Number of sentences: 19\n",
      "Embedding source and target text using LaBSE ...\n"
     ]
    },
    {
     "name": "stderr",
     "output_type": "stream",
     "text": [
      "99it [00:31,  3.86it/s]"
     ]
    },
    {
     "name": "stdout",
     "output_type": "stream",
     "text": [
      "Performing first-step alignment ...\n",
      "Performing second-step alignment ...\n",
      "Finished! Successfully aligning 22 German sentences to 19 German sentences\n",
      "\n",
      "Source language: German, Number of sentences: 24\n",
      "Target language: German, Number of sentences: 19\n",
      "Embedding source and target text using LaBSE ...\n"
     ]
    },
    {
     "name": "stderr",
     "output_type": "stream",
     "text": [
      "100it [00:32,  3.83it/s]"
     ]
    },
    {
     "name": "stdout",
     "output_type": "stream",
     "text": [
      "Performing first-step alignment ...\n",
      "Performing second-step alignment ...\n",
      "Finished! Successfully aligning 24 German sentences to 19 German sentences\n",
      "\n",
      "Source language: German, Number of sentences: 22\n",
      "Target language: German, Number of sentences: 18\n",
      "Embedding source and target text using LaBSE ...\n"
     ]
    },
    {
     "name": "stderr",
     "output_type": "stream",
     "text": [
      "101it [00:32,  3.89it/s]"
     ]
    },
    {
     "name": "stdout",
     "output_type": "stream",
     "text": [
      "Performing first-step alignment ...\n",
      "Performing second-step alignment ...\n",
      "Finished! Successfully aligning 22 German sentences to 18 German sentences\n",
      "\n",
      "Source language: German, Number of sentences: 19\n",
      "Target language: German, Number of sentences: 13\n",
      "Embedding source and target text using LaBSE ...\n"
     ]
    },
    {
     "name": "stderr",
     "output_type": "stream",
     "text": [
      "102it [00:32,  3.94it/s]"
     ]
    },
    {
     "name": "stdout",
     "output_type": "stream",
     "text": [
      "Performing first-step alignment ...\n",
      "Performing second-step alignment ...\n",
      "Finished! Successfully aligning 19 German sentences to 13 German sentences\n",
      "\n",
      "Source language: German, Number of sentences: 20\n",
      "Target language: German, Number of sentences: 23\n",
      "Embedding source and target text using LaBSE ...\n"
     ]
    },
    {
     "name": "stderr",
     "output_type": "stream",
     "text": [
      "103it [00:32,  3.88it/s]"
     ]
    },
    {
     "name": "stdout",
     "output_type": "stream",
     "text": [
      "Performing first-step alignment ...\n",
      "Performing second-step alignment ...\n",
      "Finished! Successfully aligning 20 German sentences to 23 German sentences\n",
      "\n",
      "Source language: German, Number of sentences: 17\n",
      "Target language: German, Number of sentences: 17\n",
      "Embedding source and target text using LaBSE ...\n"
     ]
    },
    {
     "name": "stderr",
     "output_type": "stream",
     "text": [
      "104it [00:33,  3.99it/s]"
     ]
    },
    {
     "name": "stdout",
     "output_type": "stream",
     "text": [
      "Performing first-step alignment ...\n",
      "Performing second-step alignment ...\n",
      "Finished! Successfully aligning 17 German sentences to 17 German sentences\n",
      "\n",
      "Source language: German, Number of sentences: 21\n",
      "Target language: German, Number of sentences: 18\n",
      "Embedding source and target text using LaBSE ...\n"
     ]
    },
    {
     "name": "stderr",
     "output_type": "stream",
     "text": [
      "105it [00:33,  3.90it/s]"
     ]
    },
    {
     "name": "stdout",
     "output_type": "stream",
     "text": [
      "Performing first-step alignment ...\n",
      "Performing second-step alignment ...\n",
      "Finished! Successfully aligning 21 German sentences to 18 German sentences\n",
      "\n",
      "Source language: German, Number of sentences: 16\n",
      "Target language: German, Number of sentences: 15\n",
      "Embedding source and target text using LaBSE ...\n"
     ]
    },
    {
     "name": "stderr",
     "output_type": "stream",
     "text": [
      "106it [00:33,  4.01it/s]"
     ]
    },
    {
     "name": "stdout",
     "output_type": "stream",
     "text": [
      "Performing first-step alignment ...\n",
      "Performing second-step alignment ...\n",
      "Finished! Successfully aligning 16 German sentences to 15 German sentences\n",
      "\n",
      "Source language: German, Number of sentences: 28\n",
      "Target language: German, Number of sentences: 19\n",
      "Embedding source and target text using LaBSE ...\n"
     ]
    },
    {
     "name": "stderr",
     "output_type": "stream",
     "text": [
      "107it [00:33,  4.04it/s]"
     ]
    },
    {
     "name": "stdout",
     "output_type": "stream",
     "text": [
      "Performing first-step alignment ...\n",
      "Performing second-step alignment ...\n",
      "Finished! Successfully aligning 28 German sentences to 19 German sentences\n",
      "\n",
      "Source language: German, Number of sentences: 26\n",
      "Target language: German, Number of sentences: 23\n",
      "Embedding source and target text using LaBSE ...\n"
     ]
    },
    {
     "name": "stderr",
     "output_type": "stream",
     "text": [
      "108it [00:34,  3.95it/s]"
     ]
    },
    {
     "name": "stdout",
     "output_type": "stream",
     "text": [
      "Performing first-step alignment ...\n",
      "Performing second-step alignment ...\n",
      "Finished! Successfully aligning 26 German sentences to 23 German sentences\n",
      "\n",
      "Source language: German, Number of sentences: 20\n",
      "Target language: German, Number of sentences: 18\n",
      "Embedding source and target text using LaBSE ...\n"
     ]
    },
    {
     "name": "stderr",
     "output_type": "stream",
     "text": [
      "109it [00:34,  4.06it/s]"
     ]
    },
    {
     "name": "stdout",
     "output_type": "stream",
     "text": [
      "Performing first-step alignment ...\n",
      "Performing second-step alignment ...\n",
      "Finished! Successfully aligning 20 German sentences to 18 German sentences\n",
      "\n",
      "Source language: German, Number of sentences: 23\n",
      "Target language: German, Number of sentences: 20\n",
      "Embedding source and target text using LaBSE ...\n"
     ]
    },
    {
     "name": "stderr",
     "output_type": "stream",
     "text": [
      "110it [00:34,  3.98it/s]"
     ]
    },
    {
     "name": "stdout",
     "output_type": "stream",
     "text": [
      "Performing first-step alignment ...\n",
      "Performing second-step alignment ...\n",
      "Finished! Successfully aligning 23 German sentences to 20 German sentences\n",
      "\n",
      "Source language: German, Number of sentences: 33\n",
      "Target language: German, Number of sentences: 24\n",
      "Embedding source and target text using LaBSE ...\n"
     ]
    },
    {
     "name": "stderr",
     "output_type": "stream",
     "text": [
      "111it [00:34,  3.69it/s]"
     ]
    },
    {
     "name": "stdout",
     "output_type": "stream",
     "text": [
      "Performing first-step alignment ...\n",
      "Performing second-step alignment ...\n",
      "Finished! Successfully aligning 33 German sentences to 24 German sentences\n",
      "\n",
      "Source language: German, Number of sentences: 27\n",
      "Target language: German, Number of sentences: 22\n",
      "Embedding source and target text using LaBSE ...\n"
     ]
    },
    {
     "name": "stderr",
     "output_type": "stream",
     "text": [
      "112it [00:35,  3.74it/s]"
     ]
    },
    {
     "name": "stdout",
     "output_type": "stream",
     "text": [
      "Performing first-step alignment ...\n",
      "Performing second-step alignment ...\n",
      "Finished! Successfully aligning 27 German sentences to 22 German sentences\n",
      "\n",
      "Source language: German, Number of sentences: 24\n",
      "Target language: German, Number of sentences: 17\n",
      "Embedding source and target text using LaBSE ...\n"
     ]
    },
    {
     "name": "stderr",
     "output_type": "stream",
     "text": [
      "113it [00:35,  3.68it/s]"
     ]
    },
    {
     "name": "stdout",
     "output_type": "stream",
     "text": [
      "Performing first-step alignment ...\n",
      "Performing second-step alignment ...\n",
      "Finished! Successfully aligning 24 German sentences to 17 German sentences\n",
      "\n",
      "Source language: German, Number of sentences: 16\n",
      "Target language: German, Number of sentences: 17\n",
      "Embedding source and target text using LaBSE ...\n"
     ]
    },
    {
     "name": "stderr",
     "output_type": "stream",
     "text": [
      "114it [00:35,  3.73it/s]"
     ]
    },
    {
     "name": "stdout",
     "output_type": "stream",
     "text": [
      "Performing first-step alignment ...\n",
      "Performing second-step alignment ...\n",
      "Finished! Successfully aligning 16 German sentences to 17 German sentences\n",
      "\n",
      "Source language: German, Number of sentences: 17\n",
      "Target language: German, Number of sentences: 15\n",
      "Embedding source and target text using LaBSE ...\n"
     ]
    },
    {
     "name": "stderr",
     "output_type": "stream",
     "text": [
      "115it [00:35,  3.84it/s]"
     ]
    },
    {
     "name": "stdout",
     "output_type": "stream",
     "text": [
      "Performing first-step alignment ...\n",
      "Performing second-step alignment ...\n",
      "Finished! Successfully aligning 17 German sentences to 15 German sentences\n",
      "\n",
      "Source language: German, Number of sentences: 22\n",
      "Target language: German, Number of sentences: 17\n",
      "Embedding source and target text using LaBSE ...\n"
     ]
    },
    {
     "name": "stderr",
     "output_type": "stream",
     "text": [
      "116it [00:36,  4.01it/s]"
     ]
    },
    {
     "name": "stdout",
     "output_type": "stream",
     "text": [
      "Performing first-step alignment ...\n",
      "Performing second-step alignment ...\n",
      "Finished! Successfully aligning 22 German sentences to 17 German sentences\n",
      "\n",
      "Source language: German, Number of sentences: 159\n",
      "Target language: German, Number of sentences: 126\n",
      "Embedding source and target text using LaBSE ...\n"
     ]
    },
    {
     "name": "stderr",
     "output_type": "stream",
     "text": [
      "117it [00:37,  2.29it/s]"
     ]
    },
    {
     "name": "stdout",
     "output_type": "stream",
     "text": [
      "Performing first-step alignment ...\n",
      "Performing second-step alignment ...\n",
      "Finished! Successfully aligning 159 German sentences to 126 German sentences\n",
      "\n",
      "Source language: German, Number of sentences: 77\n",
      "Target language: German, Number of sentences: 58\n",
      "Embedding source and target text using LaBSE ...\n"
     ]
    },
    {
     "name": "stderr",
     "output_type": "stream",
     "text": [
      "118it [00:37,  1.95it/s]"
     ]
    },
    {
     "name": "stdout",
     "output_type": "stream",
     "text": [
      "Performing first-step alignment ...\n",
      "Performing second-step alignment ...\n",
      "Finished! Successfully aligning 77 German sentences to 58 German sentences\n",
      "\n",
      "Source language: German, Number of sentences: 20\n",
      "Target language: German, Number of sentences: 76\n",
      "Embedding source and target text using LaBSE ...\n"
     ]
    },
    {
     "name": "stderr",
     "output_type": "stream",
     "text": [
      "119it [00:38,  2.05it/s]"
     ]
    },
    {
     "name": "stdout",
     "output_type": "stream",
     "text": [
      "Performing first-step alignment ...\n",
      "Performing second-step alignment ...\n",
      "Finished! Successfully aligning 20 German sentences to 76 German sentences\n",
      "\n",
      "Source language: German, Number of sentences: 43\n",
      "Target language: German, Number of sentences: 132\n",
      "Embedding source and target text using LaBSE ...\n"
     ]
    },
    {
     "name": "stderr",
     "output_type": "stream",
     "text": [
      "120it [00:38,  1.86it/s]"
     ]
    },
    {
     "name": "stdout",
     "output_type": "stream",
     "text": [
      "Performing first-step alignment ...\n",
      "Performing second-step alignment ...\n",
      "Finished! Successfully aligning 43 German sentences to 132 German sentences\n",
      "\n",
      "Source language: German, Number of sentences: 121\n",
      "Target language: German, Number of sentences: 151\n",
      "Embedding source and target text using LaBSE ...\n"
     ]
    },
    {
     "name": "stderr",
     "output_type": "stream",
     "text": [
      "121it [00:39,  1.40it/s]"
     ]
    },
    {
     "name": "stdout",
     "output_type": "stream",
     "text": [
      "Performing first-step alignment ...\n",
      "Performing second-step alignment ...\n",
      "Finished! Successfully aligning 121 German sentences to 151 German sentences\n",
      "\n",
      "Source language: German, Number of sentences: 45\n",
      "Target language: German, Number of sentences: 77\n",
      "Embedding source and target text using LaBSE ...\n"
     ]
    },
    {
     "name": "stderr",
     "output_type": "stream",
     "text": [
      "122it [00:40,  1.58it/s]"
     ]
    },
    {
     "name": "stdout",
     "output_type": "stream",
     "text": [
      "Performing first-step alignment ...\n",
      "Performing second-step alignment ...\n",
      "Finished! Successfully aligning 45 German sentences to 77 German sentences\n",
      "\n",
      "Source language: German, Number of sentences: 187\n",
      "Target language: German, Number of sentences: 77\n",
      "Embedding source and target text using LaBSE ...\n"
     ]
    },
    {
     "name": "stderr",
     "output_type": "stream",
     "text": [
      "123it [00:41,  1.32it/s]"
     ]
    },
    {
     "name": "stdout",
     "output_type": "stream",
     "text": [
      "Performing first-step alignment ...\n",
      "Performing second-step alignment ...\n",
      "Finished! Successfully aligning 187 German sentences to 77 German sentences\n",
      "\n",
      "Source language: German, Number of sentences: 128\n",
      "Target language: German, Number of sentences: 62\n",
      "Embedding source and target text using LaBSE ...\n"
     ]
    },
    {
     "name": "stderr",
     "output_type": "stream",
     "text": [
      "124it [00:42,  1.28it/s]"
     ]
    },
    {
     "name": "stdout",
     "output_type": "stream",
     "text": [
      "Performing first-step alignment ...\n",
      "Performing second-step alignment ...\n",
      "Finished! Successfully aligning 128 German sentences to 62 German sentences\n",
      "\n",
      "Source language: German, Number of sentences: 70\n",
      "Target language: German, Number of sentences: 92\n",
      "Embedding source and target text using LaBSE ...\n"
     ]
    },
    {
     "name": "stderr",
     "output_type": "stream",
     "text": [
      "125it [00:43,  1.29it/s]"
     ]
    },
    {
     "name": "stdout",
     "output_type": "stream",
     "text": [
      "Performing first-step alignment ...\n",
      "Performing second-step alignment ...\n",
      "Finished! Successfully aligning 70 German sentences to 92 German sentences\n",
      "\n",
      "Source language: German, Number of sentences: 112\n",
      "Target language: German, Number of sentences: 95\n",
      "Embedding source and target text using LaBSE ...\n"
     ]
    },
    {
     "name": "stderr",
     "output_type": "stream",
     "text": [
      "126it [00:44,  1.22it/s]"
     ]
    },
    {
     "name": "stdout",
     "output_type": "stream",
     "text": [
      "Performing first-step alignment ...\n",
      "Performing second-step alignment ...\n",
      "Finished! Successfully aligning 112 German sentences to 95 German sentences\n",
      "\n",
      "Source language: German, Number of sentences: 106\n",
      "Target language: German, Number of sentences: 86\n",
      "Embedding source and target text using LaBSE ...\n"
     ]
    },
    {
     "name": "stderr",
     "output_type": "stream",
     "text": [
      "127it [00:44,  1.24it/s]"
     ]
    },
    {
     "name": "stdout",
     "output_type": "stream",
     "text": [
      "Performing first-step alignment ...\n",
      "Performing second-step alignment ...\n",
      "Finished! Successfully aligning 106 German sentences to 86 German sentences\n",
      "\n",
      "Source language: German, Number of sentences: 257\n",
      "Target language: German, Number of sentences: 70\n",
      "Embedding source and target text using LaBSE ...\n"
     ]
    },
    {
     "name": "stderr",
     "output_type": "stream",
     "text": [
      "128it [00:46,  1.00s/it]"
     ]
    },
    {
     "name": "stdout",
     "output_type": "stream",
     "text": [
      "Performing first-step alignment ...\n",
      "Performing second-step alignment ...\n",
      "Finished! Successfully aligning 257 German sentences to 70 German sentences\n",
      "\n",
      "Source language: German, Number of sentences: 28\n",
      "Target language: German, Number of sentences: 58\n",
      "Embedding source and target text using LaBSE ...\n"
     ]
    },
    {
     "name": "stderr",
     "output_type": "stream",
     "text": [
      "129it [00:46,  1.23it/s]"
     ]
    },
    {
     "name": "stdout",
     "output_type": "stream",
     "text": [
      "Performing first-step alignment ...\n",
      "Performing second-step alignment ...\n",
      "Finished! Successfully aligning 28 German sentences to 58 German sentences\n",
      "\n",
      "Source language: German, Number of sentences: 15\n",
      "Target language: German, Number of sentences: 52\n",
      "Embedding source and target text using LaBSE ...\n"
     ]
    },
    {
     "name": "stderr",
     "output_type": "stream",
     "text": [
      "130it [00:46,  1.51it/s]"
     ]
    },
    {
     "name": "stdout",
     "output_type": "stream",
     "text": [
      "Performing first-step alignment ...\n",
      "Performing second-step alignment ...\n",
      "Finished! Successfully aligning 15 German sentences to 52 German sentences\n",
      "\n",
      "Source language: German, Number of sentences: 15\n",
      "Target language: German, Number of sentences: 18\n",
      "Embedding source and target text using LaBSE ...\n"
     ]
    },
    {
     "name": "stderr",
     "output_type": "stream",
     "text": [
      "131it [00:47,  1.90it/s]"
     ]
    },
    {
     "name": "stdout",
     "output_type": "stream",
     "text": [
      "Performing first-step alignment ...\n",
      "Performing second-step alignment ...\n",
      "Finished! Successfully aligning 15 German sentences to 18 German sentences\n",
      "\n",
      "Source language: German, Number of sentences: 29\n",
      "Target language: German, Number of sentences: 40\n",
      "Embedding source and target text using LaBSE ...\n"
     ]
    },
    {
     "name": "stderr",
     "output_type": "stream",
     "text": [
      "132it [00:47,  2.08it/s]"
     ]
    },
    {
     "name": "stdout",
     "output_type": "stream",
     "text": [
      "Performing first-step alignment ...\n",
      "Performing second-step alignment ...\n",
      "Finished! Successfully aligning 29 German sentences to 40 German sentences\n",
      "\n",
      "Source language: German, Number of sentences: 105\n",
      "Target language: German, Number of sentences: 58\n",
      "Embedding source and target text using LaBSE ...\n"
     ]
    },
    {
     "name": "stderr",
     "output_type": "stream",
     "text": [
      "133it [00:48,  1.86it/s]"
     ]
    },
    {
     "name": "stdout",
     "output_type": "stream",
     "text": [
      "Performing first-step alignment ...\n",
      "Performing second-step alignment ...\n",
      "Finished! Successfully aligning 105 German sentences to 58 German sentences\n",
      "\n",
      "Source language: German, Number of sentences: 29\n",
      "Target language: German, Number of sentences: 49\n",
      "Embedding source and target text using LaBSE ...\n"
     ]
    },
    {
     "name": "stderr",
     "output_type": "stream",
     "text": [
      "134it [00:48,  2.01it/s]"
     ]
    },
    {
     "name": "stdout",
     "output_type": "stream",
     "text": [
      "Performing first-step alignment ...\n",
      "Performing second-step alignment ...\n",
      "Finished! Successfully aligning 29 German sentences to 49 German sentences\n",
      "\n",
      "Source language: German, Number of sentences: 56\n",
      "Target language: German, Number of sentences: 289\n",
      "Embedding source and target text using LaBSE ...\n"
     ]
    },
    {
     "name": "stderr",
     "output_type": "stream",
     "text": [
      "135it [00:49,  1.53it/s]"
     ]
    },
    {
     "name": "stdout",
     "output_type": "stream",
     "text": [
      "Performing first-step alignment ...\n",
      "Performing second-step alignment ...\n",
      "Finished! Successfully aligning 56 German sentences to 289 German sentences\n",
      "\n",
      "Source language: German, Number of sentences: 57\n",
      "Target language: German, Number of sentences: 141\n",
      "Embedding source and target text using LaBSE ...\n"
     ]
    },
    {
     "name": "stderr",
     "output_type": "stream",
     "text": [
      "136it [00:50,  1.42it/s]"
     ]
    },
    {
     "name": "stdout",
     "output_type": "stream",
     "text": [
      "Performing first-step alignment ...\n",
      "Performing second-step alignment ...\n",
      "Finished! Successfully aligning 57 German sentences to 141 German sentences\n",
      "\n",
      "Source language: German, Number of sentences: 73\n",
      "Target language: German, Number of sentences: 177\n",
      "Embedding source and target text using LaBSE ...\n"
     ]
    },
    {
     "name": "stderr",
     "output_type": "stream",
     "text": [
      "137it [00:51,  1.31it/s]"
     ]
    },
    {
     "name": "stdout",
     "output_type": "stream",
     "text": [
      "Performing first-step alignment ...\n",
      "Performing second-step alignment ...\n",
      "Finished! Successfully aligning 73 German sentences to 177 German sentences\n",
      "\n",
      "Source language: German, Number of sentences: 60\n",
      "Target language: German, Number of sentences: 201\n",
      "Embedding source and target text using LaBSE ...\n"
     ]
    },
    {
     "name": "stderr",
     "output_type": "stream",
     "text": [
      "138it [00:52,  1.25it/s]"
     ]
    },
    {
     "name": "stdout",
     "output_type": "stream",
     "text": [
      "Performing first-step alignment ...\n",
      "Performing second-step alignment ...\n",
      "Finished! Successfully aligning 60 German sentences to 201 German sentences\n",
      "\n",
      "Source language: German, Number of sentences: 61\n",
      "Target language: German, Number of sentences: 215\n",
      "Embedding source and target text using LaBSE ...\n"
     ]
    },
    {
     "name": "stderr",
     "output_type": "stream",
     "text": [
      "139it [00:53,  1.22it/s]"
     ]
    },
    {
     "name": "stdout",
     "output_type": "stream",
     "text": [
      "Performing first-step alignment ...\n",
      "Performing second-step alignment ...\n",
      "Finished! Successfully aligning 61 German sentences to 215 German sentences\n",
      "\n",
      "Source language: German, Number of sentences: 51\n",
      "Target language: German, Number of sentences: 151\n",
      "Embedding source and target text using LaBSE ...\n"
     ]
    },
    {
     "name": "stderr",
     "output_type": "stream",
     "text": [
      "140it [00:53,  1.26it/s]"
     ]
    },
    {
     "name": "stdout",
     "output_type": "stream",
     "text": [
      "Performing first-step alignment ...\n",
      "Performing second-step alignment ...\n",
      "Finished! Successfully aligning 51 German sentences to 151 German sentences\n",
      "\n",
      "Source language: German, Number of sentences: 159\n",
      "Target language: German, Number of sentences: 222\n",
      "Embedding source and target text using LaBSE ...\n"
     ]
    },
    {
     "name": "stderr",
     "output_type": "stream",
     "text": [
      "141it [00:55,  1.02it/s]"
     ]
    },
    {
     "name": "stdout",
     "output_type": "stream",
     "text": [
      "Performing first-step alignment ...\n",
      "Performing second-step alignment ...\n",
      "Finished! Successfully aligning 159 German sentences to 222 German sentences\n",
      "\n",
      "Source language: German, Number of sentences: 60\n",
      "Target language: German, Number of sentences: 228\n",
      "Embedding source and target text using LaBSE ...\n"
     ]
    },
    {
     "name": "stderr",
     "output_type": "stream",
     "text": [
      "142it [00:56,  1.04it/s]"
     ]
    },
    {
     "name": "stdout",
     "output_type": "stream",
     "text": [
      "Performing first-step alignment ...\n",
      "Performing second-step alignment ...\n",
      "Finished! Successfully aligning 60 German sentences to 228 German sentences\n",
      "\n",
      "Source language: German, Number of sentences: 63\n",
      "Target language: German, Number of sentences: 213\n",
      "Embedding source and target text using LaBSE ...\n"
     ]
    },
    {
     "name": "stderr",
     "output_type": "stream",
     "text": [
      "143it [00:57,  1.05it/s]"
     ]
    },
    {
     "name": "stdout",
     "output_type": "stream",
     "text": [
      "Performing first-step alignment ...\n",
      "Performing second-step alignment ...\n",
      "Finished! Successfully aligning 63 German sentences to 213 German sentences\n",
      "\n",
      "Source language: German, Number of sentences: 50\n",
      "Target language: German, Number of sentences: 298\n",
      "Embedding source and target text using LaBSE ...\n"
     ]
    },
    {
     "name": "stderr",
     "output_type": "stream",
     "text": [
      "144it [00:58,  1.00it/s]"
     ]
    },
    {
     "name": "stdout",
     "output_type": "stream",
     "text": [
      "Performing first-step alignment ...\n",
      "Performing second-step alignment ...\n",
      "Finished! Successfully aligning 50 German sentences to 298 German sentences\n",
      "\n",
      "Source language: German, Number of sentences: 85\n",
      "Target language: German, Number of sentences: 100\n",
      "Embedding source and target text using LaBSE ...\n"
     ]
    },
    {
     "name": "stderr",
     "output_type": "stream",
     "text": [
      "145it [00:58,  1.08it/s]"
     ]
    },
    {
     "name": "stdout",
     "output_type": "stream",
     "text": [
      "Performing first-step alignment ...\n",
      "Performing second-step alignment ...\n",
      "Finished! Successfully aligning 85 German sentences to 100 German sentences\n",
      "\n",
      "Source language: German, Number of sentences: 100\n",
      "Target language: German, Number of sentences: 104\n",
      "Embedding source and target text using LaBSE ...\n"
     ]
    },
    {
     "name": "stderr",
     "output_type": "stream",
     "text": [
      "146it [00:59,  1.13it/s]"
     ]
    },
    {
     "name": "stdout",
     "output_type": "stream",
     "text": [
      "Performing first-step alignment ...\n",
      "Performing second-step alignment ...\n",
      "Finished! Successfully aligning 100 German sentences to 104 German sentences\n",
      "\n",
      "Source language: German, Number of sentences: 201\n",
      "Target language: German, Number of sentences: 131\n",
      "Embedding source and target text using LaBSE ...\n"
     ]
    },
    {
     "name": "stderr",
     "output_type": "stream",
     "text": [
      "147it [01:01,  2.40it/s]"
     ]
    },
    {
     "name": "stdout",
     "output_type": "stream",
     "text": [
      "Performing first-step alignment ...\n",
      "Performing second-step alignment ...\n",
      "Finished! Successfully aligning 201 German sentences to 131 German sentences\n",
      "\n"
     ]
    },
    {
     "name": "stderr",
     "output_type": "stream",
     "text": [
      "\n"
     ]
    }
   ],
   "source": [
    "alignments = get_n_m_alignments(\n",
    "    complex_file=src_file, \n",
    "    simple_file=tgt_file,\n",
    "    output_file=output_file,\n",
    "    allow_1_1=True,\n",
    "    allow_1_m=False,\n",
    "    allow_n_1=False\n",
    ")"
   ]
  },
  {
   "cell_type": "code",
   "execution_count": 15,
   "id": "56fea81e-c2be-4b49-ba9d-d208a0dd6087",
   "metadata": {},
   "outputs": [
    {
     "name": "stdout",
     "output_type": "stream",
     "text": [
      "precision: 0.7432905484247374\n",
      "recall: 0.46479387085005475\n",
      "f1: 0.5719416386083053\n",
      "n_gold: 2741, n_out: 1714, correct: 1274.\n",
      "===========================================================================================================\n",
      "n_1:1_aligns: 1714, n_correct_1:1_aligns: 1274.\n",
      "n_1:m_aligns: 0, n_correct_1:m_aligns: 0.\n",
      "n_n:1_aligns: 0, n_correct_n:1_aligns: 0.\n",
      "===========================================================================================================\n"
     ]
    }
   ],
   "source": [
    "precision, recall, n_gold, n_out, correct, f1, n_11, n_1m, n_n1, correct_n_11, correct_n_1m, correct_n_n1 = evaluate_n_m(\n",
    "    gold_src=gold_src, \n",
    "    gold_tgt=gold_tgt, \n",
    "    out_complex=output_file+'.complex', \n",
    "    out_simpl=output_file+'.simpl',\n",
    "    types=output_file+'.types'\n",
    ")\n",
    "print(f'precision: {precision}')\n",
    "print(f'recall: {recall}')\n",
    "print(f'f1: {f1}')\n",
    "print(f'n_gold: {n_gold}, n_out: {n_out}, correct: {correct}.')\n",
    "print('===========================================================================================================')\n",
    "print(f'n_1:1_aligns: {n_11}, n_correct_1:1_aligns: {correct_n_11}.')\n",
    "print(f'n_1:m_aligns: {n_1m}, n_correct_1:m_aligns: {correct_n_1m}.')\n",
    "print(f'n_n:1_aligns: {n_n1}, n_correct_n:1_aligns: {correct_n_n1}.')\n",
    "print('===========================================================================================================')"
   ]
  },
  {
   "cell_type": "code",
   "execution_count": null,
   "id": "fd852ab6-d87f-4c90-b4d8-b70cd99b29e8",
   "metadata": {},
   "outputs": [],
   "source": []
  },
  {
   "cell_type": "code",
   "execution_count": null,
   "id": "48475dcd-ee35-4d45-8ff6-567407a8f589",
   "metadata": {},
   "outputs": [],
   "source": []
  },
  {
   "cell_type": "code",
   "execution_count": null,
   "id": "44411eee-d42b-495f-8d09-d3414e9d0422",
   "metadata": {},
   "outputs": [],
   "source": []
  }
 ],
 "metadata": {
  "kernelspec": {
   "display_name": "Python 3 (ipykernel)",
   "language": "python",
   "name": "python3"
  },
  "language_info": {
   "codemirror_mode": {
    "name": "ipython",
    "version": 3
   },
   "file_extension": ".py",
   "mimetype": "text/x-python",
   "name": "python",
   "nbconvert_exporter": "python",
   "pygments_lexer": "ipython3",
   "version": "3.10.6"
  }
 },
 "nbformat": 4,
 "nbformat_minor": 5
}
